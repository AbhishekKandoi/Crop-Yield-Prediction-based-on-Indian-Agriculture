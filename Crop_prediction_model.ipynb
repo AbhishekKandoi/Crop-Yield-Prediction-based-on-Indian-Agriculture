{
  "cells": [
    {
      "cell_type": "markdown",
      "metadata": {
        "id": "ElHiPzneAlDl"
      },
      "source": [
        "<b><h2> CROP YIELD PREDICTION IN INDIA </h2></b>\n",
        "\n",
        "Predicting yield helps the state to get an estimate of the crop in a\n",
        "certain year to control the price rates.This model focuses on predicting the crop yield in advance by analyzing\n",
        "factors like location, season, and crop type  through machine learning techniques on\n",
        "previously collected datasets."
      ]
    },
    {
      "cell_type": "markdown",
      "source": [
        "# **PRE-PROCESSING**\n"
      ],
      "metadata": {
        "id": "uFLVu_S7jyEe"
      }
    },
    {
      "cell_type": "code",
      "execution_count": null,
      "metadata": {
        "id": "FtEIe2eNAvGG"
      },
      "outputs": [],
      "source": [
        "# importing necessary libraries \n",
        "\n",
        "import numpy as np\n",
        "import pandas as pd\n",
        "import matplotlib.pyplot as plt\n",
        "import seaborn as sns"
      ]
    },
    {
      "cell_type": "code",
      "execution_count": null,
      "metadata": {
        "colab": {
          "base_uri": "https://localhost:8080/",
          "height": 468
        },
        "id": "QlFU5GzNCLGo",
        "outputId": "27ac79ca-1d7b-4bf4-8040-973bf80a16d7"
      },
      "outputs": [
        {
          "output_type": "execute_result",
          "data": {
            "text/plain": [
              "                        State_Name   District_Name  Crop_Year       Season  \\\n",
              "0      Andaman and Nicobar Islands        NICOBARS       2000  Kharif        \n",
              "1      Andaman and Nicobar Islands        NICOBARS       2000  Kharif        \n",
              "2      Andaman and Nicobar Islands        NICOBARS       2000  Kharif        \n",
              "3      Andaman and Nicobar Islands        NICOBARS       2000  Whole Year    \n",
              "4      Andaman and Nicobar Islands        NICOBARS       2000  Whole Year    \n",
              "...                            ...             ...        ...          ...   \n",
              "49994                 Chhattisgarh  JANJGIR-CHAMPA       2006  Kharif        \n",
              "49995                 Chhattisgarh  JANJGIR-CHAMPA       2006  Kharif        \n",
              "49996                 Chhattisgarh  JANJGIR-CHAMPA       2006  Kharif        \n",
              "49997                 Chhattisgarh  JANJGIR-CHAMPA       2006  Kharif        \n",
              "49998                 Chhattisgarh  JANJGIR-CHAMPA       2006  Rabi          \n",
              "\n",
              "                      Crop  Temperature  Humidity  Soil_Moisture    Area  \\\n",
              "0                 Arecanut           36        35             45  1254.0   \n",
              "1      Other Kharif pulses           37        40             46     2.0   \n",
              "2                     Rice           36        41             50   102.0   \n",
              "3                   Banana           37        42             55   176.0   \n",
              "4                Cashewnut           36        40             54   720.0   \n",
              "...                    ...          ...       ...            ...     ...   \n",
              "49994        Small millets           36        35             45    27.0   \n",
              "49995             Soyabean           37        40             46    27.0   \n",
              "49996            Sunflower           36        41             50   450.0   \n",
              "49997                 Urad           37        42             55  1778.0   \n",
              "49998                 Gram           36        40             54   216.0   \n",
              "\n",
              "       Production  \n",
              "0          2000.0  \n",
              "1             1.0  \n",
              "2           321.0  \n",
              "3           641.0  \n",
              "4           165.0  \n",
              "...           ...  \n",
              "49994         7.0  \n",
              "49995        32.0  \n",
              "49996       213.0  \n",
              "49997       309.0  \n",
              "49998       194.0  \n",
              "\n",
              "[49999 rows x 10 columns]"
            ],
            "text/html": [
              "\n",
              "  <div id=\"df-4c9f0af6-2dfe-450a-9771-d1c6c5e0682d\">\n",
              "    <div class=\"colab-df-container\">\n",
              "      <div>\n",
              "<style scoped>\n",
              "    .dataframe tbody tr th:only-of-type {\n",
              "        vertical-align: middle;\n",
              "    }\n",
              "\n",
              "    .dataframe tbody tr th {\n",
              "        vertical-align: top;\n",
              "    }\n",
              "\n",
              "    .dataframe thead th {\n",
              "        text-align: right;\n",
              "    }\n",
              "</style>\n",
              "<table border=\"1\" class=\"dataframe\">\n",
              "  <thead>\n",
              "    <tr style=\"text-align: right;\">\n",
              "      <th></th>\n",
              "      <th>State_Name</th>\n",
              "      <th>District_Name</th>\n",
              "      <th>Crop_Year</th>\n",
              "      <th>Season</th>\n",
              "      <th>Crop</th>\n",
              "      <th>Temperature</th>\n",
              "      <th>Humidity</th>\n",
              "      <th>Soil_Moisture</th>\n",
              "      <th>Area</th>\n",
              "      <th>Production</th>\n",
              "    </tr>\n",
              "  </thead>\n",
              "  <tbody>\n",
              "    <tr>\n",
              "      <th>0</th>\n",
              "      <td>Andaman and Nicobar Islands</td>\n",
              "      <td>NICOBARS</td>\n",
              "      <td>2000</td>\n",
              "      <td>Kharif</td>\n",
              "      <td>Arecanut</td>\n",
              "      <td>36</td>\n",
              "      <td>35</td>\n",
              "      <td>45</td>\n",
              "      <td>1254.0</td>\n",
              "      <td>2000.0</td>\n",
              "    </tr>\n",
              "    <tr>\n",
              "      <th>1</th>\n",
              "      <td>Andaman and Nicobar Islands</td>\n",
              "      <td>NICOBARS</td>\n",
              "      <td>2000</td>\n",
              "      <td>Kharif</td>\n",
              "      <td>Other Kharif pulses</td>\n",
              "      <td>37</td>\n",
              "      <td>40</td>\n",
              "      <td>46</td>\n",
              "      <td>2.0</td>\n",
              "      <td>1.0</td>\n",
              "    </tr>\n",
              "    <tr>\n",
              "      <th>2</th>\n",
              "      <td>Andaman and Nicobar Islands</td>\n",
              "      <td>NICOBARS</td>\n",
              "      <td>2000</td>\n",
              "      <td>Kharif</td>\n",
              "      <td>Rice</td>\n",
              "      <td>36</td>\n",
              "      <td>41</td>\n",
              "      <td>50</td>\n",
              "      <td>102.0</td>\n",
              "      <td>321.0</td>\n",
              "    </tr>\n",
              "    <tr>\n",
              "      <th>3</th>\n",
              "      <td>Andaman and Nicobar Islands</td>\n",
              "      <td>NICOBARS</td>\n",
              "      <td>2000</td>\n",
              "      <td>Whole Year</td>\n",
              "      <td>Banana</td>\n",
              "      <td>37</td>\n",
              "      <td>42</td>\n",
              "      <td>55</td>\n",
              "      <td>176.0</td>\n",
              "      <td>641.0</td>\n",
              "    </tr>\n",
              "    <tr>\n",
              "      <th>4</th>\n",
              "      <td>Andaman and Nicobar Islands</td>\n",
              "      <td>NICOBARS</td>\n",
              "      <td>2000</td>\n",
              "      <td>Whole Year</td>\n",
              "      <td>Cashewnut</td>\n",
              "      <td>36</td>\n",
              "      <td>40</td>\n",
              "      <td>54</td>\n",
              "      <td>720.0</td>\n",
              "      <td>165.0</td>\n",
              "    </tr>\n",
              "    <tr>\n",
              "      <th>...</th>\n",
              "      <td>...</td>\n",
              "      <td>...</td>\n",
              "      <td>...</td>\n",
              "      <td>...</td>\n",
              "      <td>...</td>\n",
              "      <td>...</td>\n",
              "      <td>...</td>\n",
              "      <td>...</td>\n",
              "      <td>...</td>\n",
              "      <td>...</td>\n",
              "    </tr>\n",
              "    <tr>\n",
              "      <th>49994</th>\n",
              "      <td>Chhattisgarh</td>\n",
              "      <td>JANJGIR-CHAMPA</td>\n",
              "      <td>2006</td>\n",
              "      <td>Kharif</td>\n",
              "      <td>Small millets</td>\n",
              "      <td>36</td>\n",
              "      <td>35</td>\n",
              "      <td>45</td>\n",
              "      <td>27.0</td>\n",
              "      <td>7.0</td>\n",
              "    </tr>\n",
              "    <tr>\n",
              "      <th>49995</th>\n",
              "      <td>Chhattisgarh</td>\n",
              "      <td>JANJGIR-CHAMPA</td>\n",
              "      <td>2006</td>\n",
              "      <td>Kharif</td>\n",
              "      <td>Soyabean</td>\n",
              "      <td>37</td>\n",
              "      <td>40</td>\n",
              "      <td>46</td>\n",
              "      <td>27.0</td>\n",
              "      <td>32.0</td>\n",
              "    </tr>\n",
              "    <tr>\n",
              "      <th>49996</th>\n",
              "      <td>Chhattisgarh</td>\n",
              "      <td>JANJGIR-CHAMPA</td>\n",
              "      <td>2006</td>\n",
              "      <td>Kharif</td>\n",
              "      <td>Sunflower</td>\n",
              "      <td>36</td>\n",
              "      <td>41</td>\n",
              "      <td>50</td>\n",
              "      <td>450.0</td>\n",
              "      <td>213.0</td>\n",
              "    </tr>\n",
              "    <tr>\n",
              "      <th>49997</th>\n",
              "      <td>Chhattisgarh</td>\n",
              "      <td>JANJGIR-CHAMPA</td>\n",
              "      <td>2006</td>\n",
              "      <td>Kharif</td>\n",
              "      <td>Urad</td>\n",
              "      <td>37</td>\n",
              "      <td>42</td>\n",
              "      <td>55</td>\n",
              "      <td>1778.0</td>\n",
              "      <td>309.0</td>\n",
              "    </tr>\n",
              "    <tr>\n",
              "      <th>49998</th>\n",
              "      <td>Chhattisgarh</td>\n",
              "      <td>JANJGIR-CHAMPA</td>\n",
              "      <td>2006</td>\n",
              "      <td>Rabi</td>\n",
              "      <td>Gram</td>\n",
              "      <td>36</td>\n",
              "      <td>40</td>\n",
              "      <td>54</td>\n",
              "      <td>216.0</td>\n",
              "      <td>194.0</td>\n",
              "    </tr>\n",
              "  </tbody>\n",
              "</table>\n",
              "<p>49999 rows × 10 columns</p>\n",
              "</div>\n",
              "      <button class=\"colab-df-convert\" onclick=\"convertToInteractive('df-4c9f0af6-2dfe-450a-9771-d1c6c5e0682d')\"\n",
              "              title=\"Convert this dataframe to an interactive table.\"\n",
              "              style=\"display:none;\">\n",
              "        \n",
              "  <svg xmlns=\"http://www.w3.org/2000/svg\" height=\"24px\"viewBox=\"0 0 24 24\"\n",
              "       width=\"24px\">\n",
              "    <path d=\"M0 0h24v24H0V0z\" fill=\"none\"/>\n",
              "    <path d=\"M18.56 5.44l.94 2.06.94-2.06 2.06-.94-2.06-.94-.94-2.06-.94 2.06-2.06.94zm-11 1L8.5 8.5l.94-2.06 2.06-.94-2.06-.94L8.5 2.5l-.94 2.06-2.06.94zm10 10l.94 2.06.94-2.06 2.06-.94-2.06-.94-.94-2.06-.94 2.06-2.06.94z\"/><path d=\"M17.41 7.96l-1.37-1.37c-.4-.4-.92-.59-1.43-.59-.52 0-1.04.2-1.43.59L10.3 9.45l-7.72 7.72c-.78.78-.78 2.05 0 2.83L4 21.41c.39.39.9.59 1.41.59.51 0 1.02-.2 1.41-.59l7.78-7.78 2.81-2.81c.8-.78.8-2.07 0-2.86zM5.41 20L4 18.59l7.72-7.72 1.47 1.35L5.41 20z\"/>\n",
              "  </svg>\n",
              "      </button>\n",
              "      \n",
              "  <style>\n",
              "    .colab-df-container {\n",
              "      display:flex;\n",
              "      flex-wrap:wrap;\n",
              "      gap: 12px;\n",
              "    }\n",
              "\n",
              "    .colab-df-convert {\n",
              "      background-color: #E8F0FE;\n",
              "      border: none;\n",
              "      border-radius: 50%;\n",
              "      cursor: pointer;\n",
              "      display: none;\n",
              "      fill: #1967D2;\n",
              "      height: 32px;\n",
              "      padding: 0 0 0 0;\n",
              "      width: 32px;\n",
              "    }\n",
              "\n",
              "    .colab-df-convert:hover {\n",
              "      background-color: #E2EBFA;\n",
              "      box-shadow: 0px 1px 2px rgba(60, 64, 67, 0.3), 0px 1px 3px 1px rgba(60, 64, 67, 0.15);\n",
              "      fill: #174EA6;\n",
              "    }\n",
              "\n",
              "    [theme=dark] .colab-df-convert {\n",
              "      background-color: #3B4455;\n",
              "      fill: #D2E3FC;\n",
              "    }\n",
              "\n",
              "    [theme=dark] .colab-df-convert:hover {\n",
              "      background-color: #434B5C;\n",
              "      box-shadow: 0px 1px 3px 1px rgba(0, 0, 0, 0.15);\n",
              "      filter: drop-shadow(0px 1px 2px rgba(0, 0, 0, 0.3));\n",
              "      fill: #FFFFFF;\n",
              "    }\n",
              "  </style>\n",
              "\n",
              "      <script>\n",
              "        const buttonEl =\n",
              "          document.querySelector('#df-4c9f0af6-2dfe-450a-9771-d1c6c5e0682d button.colab-df-convert');\n",
              "        buttonEl.style.display =\n",
              "          google.colab.kernel.accessAllowed ? 'block' : 'none';\n",
              "\n",
              "        async function convertToInteractive(key) {\n",
              "          const element = document.querySelector('#df-4c9f0af6-2dfe-450a-9771-d1c6c5e0682d');\n",
              "          const dataTable =\n",
              "            await google.colab.kernel.invokeFunction('convertToInteractive',\n",
              "                                                     [key], {});\n",
              "          if (!dataTable) return;\n",
              "\n",
              "          const docLinkHtml = 'Like what you see? Visit the ' +\n",
              "            '<a target=\"_blank\" href=https://colab.research.google.com/notebooks/data_table.ipynb>data table notebook</a>'\n",
              "            + ' to learn more about interactive tables.';\n",
              "          element.innerHTML = '';\n",
              "          dataTable['output_type'] = 'display_data';\n",
              "          await google.colab.output.renderOutput(dataTable, element);\n",
              "          const docLink = document.createElement('div');\n",
              "          docLink.innerHTML = docLinkHtml;\n",
              "          element.appendChild(docLink);\n",
              "        }\n",
              "      </script>\n",
              "    </div>\n",
              "  </div>\n",
              "  "
            ]
          },
          "metadata": {},
          "execution_count": 2
        }
      ],
      "source": [
        "# loading the dataset\n",
        "\n",
        "url = 'https://raw.githubusercontent.com/jdapoorv/Crop-yield-prediction/main/crop_csv_file_1_.csv'\n",
        "crop_data = pd.read_csv(url)\n",
        "crop_data\n"
      ]
    },
    {
      "cell_type": "code",
      "execution_count": null,
      "metadata": {
        "colab": {
          "base_uri": "https://localhost:8080/"
        },
        "id": "TCCZqMyfI3qj",
        "outputId": "6810719e-fd74-4062-a494-554e69830f77"
      },
      "outputs": [
        {
          "output_type": "execute_result",
          "data": {
            "text/plain": [
              "(49999, 10)"
            ]
          },
          "metadata": {},
          "execution_count": 3
        }
      ],
      "source": [
        "crop_data.shape\n",
        "\n",
        "#rows X columns"
      ]
    },
    {
      "cell_type": "code",
      "execution_count": null,
      "metadata": {
        "colab": {
          "base_uri": "https://localhost:8080/"
        },
        "id": "vJM7qEq3wEEb",
        "outputId": "04008a07-ce9d-4128-ba1b-635c5610671f"
      },
      "outputs": [
        {
          "output_type": "execute_result",
          "data": {
            "text/plain": [
              "Index(['State_Name', 'District_Name', 'Crop_Year', 'Season', 'Crop',\n",
              "       'Temperature', 'Humidity', 'Soil_Moisture', 'Area', 'Production'],\n",
              "      dtype='object')"
            ]
          },
          "metadata": {},
          "execution_count": 4
        }
      ],
      "source": [
        "# dataset columns\n",
        "crop_data.columns"
      ]
    },
    {
      "cell_type": "code",
      "execution_count": null,
      "metadata": {
        "colab": {
          "base_uri": "https://localhost:8080/",
          "height": 300
        },
        "id": "1xDyXRn_S-8I",
        "outputId": "440c94f1-3b4d-4889-fb60-058375ce1c78"
      },
      "outputs": [
        {
          "output_type": "execute_result",
          "data": {
            "text/plain": [
              "          Crop_Year   Temperature      Humidity  Soil_Moisture           Area  \\\n",
              "count  49999.000000  49999.000000  49999.000000   49999.000000   49999.000000   \n",
              "mean    2005.879138     34.445489     44.776116      53.110502    7363.389469   \n",
              "std        5.106092      3.498524      6.662406       5.258764   27927.935789   \n",
              "min     1997.000000     25.000000     35.000000      45.000000       0.200000   \n",
              "25%     2002.000000     34.000000     40.000000      50.000000      76.000000   \n",
              "50%     2006.000000     36.000000     42.000000      54.000000     436.000000   \n",
              "75%     2010.000000     36.000000     50.000000      55.000000    2546.500000   \n",
              "max     2014.000000     37.000000     55.000000      62.000000  877029.000000   \n",
              "\n",
              "         Production  \n",
              "count  4.978400e+04  \n",
              "mean   4.132019e+05  \n",
              "std    1.232609e+07  \n",
              "min    0.000000e+00  \n",
              "25%    8.700000e+01  \n",
              "50%    6.384400e+02  \n",
              "75%    5.615000e+03  \n",
              "max    7.801620e+08  "
            ],
            "text/html": [
              "\n",
              "  <div id=\"df-8a1e7185-d8c6-45fb-8af0-7c88bf98ff1a\">\n",
              "    <div class=\"colab-df-container\">\n",
              "      <div>\n",
              "<style scoped>\n",
              "    .dataframe tbody tr th:only-of-type {\n",
              "        vertical-align: middle;\n",
              "    }\n",
              "\n",
              "    .dataframe tbody tr th {\n",
              "        vertical-align: top;\n",
              "    }\n",
              "\n",
              "    .dataframe thead th {\n",
              "        text-align: right;\n",
              "    }\n",
              "</style>\n",
              "<table border=\"1\" class=\"dataframe\">\n",
              "  <thead>\n",
              "    <tr style=\"text-align: right;\">\n",
              "      <th></th>\n",
              "      <th>Crop_Year</th>\n",
              "      <th>Temperature</th>\n",
              "      <th>Humidity</th>\n",
              "      <th>Soil_Moisture</th>\n",
              "      <th>Area</th>\n",
              "      <th>Production</th>\n",
              "    </tr>\n",
              "  </thead>\n",
              "  <tbody>\n",
              "    <tr>\n",
              "      <th>count</th>\n",
              "      <td>49999.000000</td>\n",
              "      <td>49999.000000</td>\n",
              "      <td>49999.000000</td>\n",
              "      <td>49999.000000</td>\n",
              "      <td>49999.000000</td>\n",
              "      <td>4.978400e+04</td>\n",
              "    </tr>\n",
              "    <tr>\n",
              "      <th>mean</th>\n",
              "      <td>2005.879138</td>\n",
              "      <td>34.445489</td>\n",
              "      <td>44.776116</td>\n",
              "      <td>53.110502</td>\n",
              "      <td>7363.389469</td>\n",
              "      <td>4.132019e+05</td>\n",
              "    </tr>\n",
              "    <tr>\n",
              "      <th>std</th>\n",
              "      <td>5.106092</td>\n",
              "      <td>3.498524</td>\n",
              "      <td>6.662406</td>\n",
              "      <td>5.258764</td>\n",
              "      <td>27927.935789</td>\n",
              "      <td>1.232609e+07</td>\n",
              "    </tr>\n",
              "    <tr>\n",
              "      <th>min</th>\n",
              "      <td>1997.000000</td>\n",
              "      <td>25.000000</td>\n",
              "      <td>35.000000</td>\n",
              "      <td>45.000000</td>\n",
              "      <td>0.200000</td>\n",
              "      <td>0.000000e+00</td>\n",
              "    </tr>\n",
              "    <tr>\n",
              "      <th>25%</th>\n",
              "      <td>2002.000000</td>\n",
              "      <td>34.000000</td>\n",
              "      <td>40.000000</td>\n",
              "      <td>50.000000</td>\n",
              "      <td>76.000000</td>\n",
              "      <td>8.700000e+01</td>\n",
              "    </tr>\n",
              "    <tr>\n",
              "      <th>50%</th>\n",
              "      <td>2006.000000</td>\n",
              "      <td>36.000000</td>\n",
              "      <td>42.000000</td>\n",
              "      <td>54.000000</td>\n",
              "      <td>436.000000</td>\n",
              "      <td>6.384400e+02</td>\n",
              "    </tr>\n",
              "    <tr>\n",
              "      <th>75%</th>\n",
              "      <td>2010.000000</td>\n",
              "      <td>36.000000</td>\n",
              "      <td>50.000000</td>\n",
              "      <td>55.000000</td>\n",
              "      <td>2546.500000</td>\n",
              "      <td>5.615000e+03</td>\n",
              "    </tr>\n",
              "    <tr>\n",
              "      <th>max</th>\n",
              "      <td>2014.000000</td>\n",
              "      <td>37.000000</td>\n",
              "      <td>55.000000</td>\n",
              "      <td>62.000000</td>\n",
              "      <td>877029.000000</td>\n",
              "      <td>7.801620e+08</td>\n",
              "    </tr>\n",
              "  </tbody>\n",
              "</table>\n",
              "</div>\n",
              "      <button class=\"colab-df-convert\" onclick=\"convertToInteractive('df-8a1e7185-d8c6-45fb-8af0-7c88bf98ff1a')\"\n",
              "              title=\"Convert this dataframe to an interactive table.\"\n",
              "              style=\"display:none;\">\n",
              "        \n",
              "  <svg xmlns=\"http://www.w3.org/2000/svg\" height=\"24px\"viewBox=\"0 0 24 24\"\n",
              "       width=\"24px\">\n",
              "    <path d=\"M0 0h24v24H0V0z\" fill=\"none\"/>\n",
              "    <path d=\"M18.56 5.44l.94 2.06.94-2.06 2.06-.94-2.06-.94-.94-2.06-.94 2.06-2.06.94zm-11 1L8.5 8.5l.94-2.06 2.06-.94-2.06-.94L8.5 2.5l-.94 2.06-2.06.94zm10 10l.94 2.06.94-2.06 2.06-.94-2.06-.94-.94-2.06-.94 2.06-2.06.94z\"/><path d=\"M17.41 7.96l-1.37-1.37c-.4-.4-.92-.59-1.43-.59-.52 0-1.04.2-1.43.59L10.3 9.45l-7.72 7.72c-.78.78-.78 2.05 0 2.83L4 21.41c.39.39.9.59 1.41.59.51 0 1.02-.2 1.41-.59l7.78-7.78 2.81-2.81c.8-.78.8-2.07 0-2.86zM5.41 20L4 18.59l7.72-7.72 1.47 1.35L5.41 20z\"/>\n",
              "  </svg>\n",
              "      </button>\n",
              "      \n",
              "  <style>\n",
              "    .colab-df-container {\n",
              "      display:flex;\n",
              "      flex-wrap:wrap;\n",
              "      gap: 12px;\n",
              "    }\n",
              "\n",
              "    .colab-df-convert {\n",
              "      background-color: #E8F0FE;\n",
              "      border: none;\n",
              "      border-radius: 50%;\n",
              "      cursor: pointer;\n",
              "      display: none;\n",
              "      fill: #1967D2;\n",
              "      height: 32px;\n",
              "      padding: 0 0 0 0;\n",
              "      width: 32px;\n",
              "    }\n",
              "\n",
              "    .colab-df-convert:hover {\n",
              "      background-color: #E2EBFA;\n",
              "      box-shadow: 0px 1px 2px rgba(60, 64, 67, 0.3), 0px 1px 3px 1px rgba(60, 64, 67, 0.15);\n",
              "      fill: #174EA6;\n",
              "    }\n",
              "\n",
              "    [theme=dark] .colab-df-convert {\n",
              "      background-color: #3B4455;\n",
              "      fill: #D2E3FC;\n",
              "    }\n",
              "\n",
              "    [theme=dark] .colab-df-convert:hover {\n",
              "      background-color: #434B5C;\n",
              "      box-shadow: 0px 1px 3px 1px rgba(0, 0, 0, 0.15);\n",
              "      filter: drop-shadow(0px 1px 2px rgba(0, 0, 0, 0.3));\n",
              "      fill: #FFFFFF;\n",
              "    }\n",
              "  </style>\n",
              "\n",
              "      <script>\n",
              "        const buttonEl =\n",
              "          document.querySelector('#df-8a1e7185-d8c6-45fb-8af0-7c88bf98ff1a button.colab-df-convert');\n",
              "        buttonEl.style.display =\n",
              "          google.colab.kernel.accessAllowed ? 'block' : 'none';\n",
              "\n",
              "        async function convertToInteractive(key) {\n",
              "          const element = document.querySelector('#df-8a1e7185-d8c6-45fb-8af0-7c88bf98ff1a');\n",
              "          const dataTable =\n",
              "            await google.colab.kernel.invokeFunction('convertToInteractive',\n",
              "                                                     [key], {});\n",
              "          if (!dataTable) return;\n",
              "\n",
              "          const docLinkHtml = 'Like what you see? Visit the ' +\n",
              "            '<a target=\"_blank\" href=https://colab.research.google.com/notebooks/data_table.ipynb>data table notebook</a>'\n",
              "            + ' to learn more about interactive tables.';\n",
              "          element.innerHTML = '';\n",
              "          dataTable['output_type'] = 'display_data';\n",
              "          await google.colab.output.renderOutput(dataTable, element);\n",
              "          const docLink = document.createElement('div');\n",
              "          docLink.innerHTML = docLinkHtml;\n",
              "          element.appendChild(docLink);\n",
              "        }\n",
              "      </script>\n",
              "    </div>\n",
              "  </div>\n",
              "  "
            ]
          },
          "metadata": {},
          "execution_count": 5
        }
      ],
      "source": [
        "# Statistical summary of data frame.\n",
        "\n",
        "crop_data.describe()"
      ]
    },
    {
      "cell_type": "code",
      "execution_count": null,
      "metadata": {
        "colab": {
          "base_uri": "https://localhost:8080/"
        },
        "id": "etWFlfIWWdbC",
        "outputId": "714faee3-ceeb-42ae-da72-d9638660fc2e"
      },
      "outputs": [
        {
          "output_type": "execute_result",
          "data": {
            "text/plain": [
              "State_Name         0\n",
              "District_Name      0\n",
              "Crop_Year          0\n",
              "Season             0\n",
              "Crop               0\n",
              "Temperature        0\n",
              "Humidity           0\n",
              "Soil_Moisture      0\n",
              "Area               0\n",
              "Production       215\n",
              "dtype: int64"
            ]
          },
          "metadata": {},
          "execution_count": 204
        }
      ],
      "source": [
        "# Checking missing values of the dataset in each column\n",
        "crop_data.isnull().sum()"
      ]
    },
    {
      "cell_type": "code",
      "execution_count": null,
      "metadata": {
        "colab": {
          "base_uri": "https://localhost:8080/",
          "height": 468
        },
        "id": "dJXZbZ3kWl2y",
        "outputId": "487e0273-8f27-4306-e3ae-363dcf1ff3f8"
      },
      "outputs": [
        {
          "output_type": "execute_result",
          "data": {
            "text/plain": [
              "                        State_Name   District_Name  Crop_Year       Season  \\\n",
              "0      Andaman and Nicobar Islands        NICOBARS       2000  Kharif        \n",
              "1      Andaman and Nicobar Islands        NICOBARS       2000  Kharif        \n",
              "2      Andaman and Nicobar Islands        NICOBARS       2000  Kharif        \n",
              "3      Andaman and Nicobar Islands        NICOBARS       2000  Whole Year    \n",
              "4      Andaman and Nicobar Islands        NICOBARS       2000  Whole Year    \n",
              "...                            ...             ...        ...          ...   \n",
              "49994                 Chhattisgarh  JANJGIR-CHAMPA       2006  Kharif        \n",
              "49995                 Chhattisgarh  JANJGIR-CHAMPA       2006  Kharif        \n",
              "49996                 Chhattisgarh  JANJGIR-CHAMPA       2006  Kharif        \n",
              "49997                 Chhattisgarh  JANJGIR-CHAMPA       2006  Kharif        \n",
              "49998                 Chhattisgarh  JANJGIR-CHAMPA       2006  Rabi          \n",
              "\n",
              "                      Crop  Temperature  Humidity  Soil_Moisture    Area  \\\n",
              "0                 Arecanut           36        35             45  1254.0   \n",
              "1      Other Kharif pulses           37        40             46     2.0   \n",
              "2                     Rice           36        41             50   102.0   \n",
              "3                   Banana           37        42             55   176.0   \n",
              "4                Cashewnut           36        40             54   720.0   \n",
              "...                    ...          ...       ...            ...     ...   \n",
              "49994        Small millets           36        35             45    27.0   \n",
              "49995             Soyabean           37        40             46    27.0   \n",
              "49996            Sunflower           36        41             50   450.0   \n",
              "49997                 Urad           37        42             55  1778.0   \n",
              "49998                 Gram           36        40             54   216.0   \n",
              "\n",
              "       Production  \n",
              "0          2000.0  \n",
              "1             1.0  \n",
              "2           321.0  \n",
              "3           641.0  \n",
              "4           165.0  \n",
              "...           ...  \n",
              "49994         7.0  \n",
              "49995        32.0  \n",
              "49996       213.0  \n",
              "49997       309.0  \n",
              "49998       194.0  \n",
              "\n",
              "[49999 rows x 10 columns]"
            ],
            "text/html": [
              "\n",
              "  <div id=\"df-6ab17852-e5bf-4223-b5c2-3ca58e647b0e\">\n",
              "    <div class=\"colab-df-container\">\n",
              "      <div>\n",
              "<style scoped>\n",
              "    .dataframe tbody tr th:only-of-type {\n",
              "        vertical-align: middle;\n",
              "    }\n",
              "\n",
              "    .dataframe tbody tr th {\n",
              "        vertical-align: top;\n",
              "    }\n",
              "\n",
              "    .dataframe thead th {\n",
              "        text-align: right;\n",
              "    }\n",
              "</style>\n",
              "<table border=\"1\" class=\"dataframe\">\n",
              "  <thead>\n",
              "    <tr style=\"text-align: right;\">\n",
              "      <th></th>\n",
              "      <th>State_Name</th>\n",
              "      <th>District_Name</th>\n",
              "      <th>Crop_Year</th>\n",
              "      <th>Season</th>\n",
              "      <th>Crop</th>\n",
              "      <th>Temperature</th>\n",
              "      <th>Humidity</th>\n",
              "      <th>Soil_Moisture</th>\n",
              "      <th>Area</th>\n",
              "      <th>Production</th>\n",
              "    </tr>\n",
              "  </thead>\n",
              "  <tbody>\n",
              "    <tr>\n",
              "      <th>0</th>\n",
              "      <td>Andaman and Nicobar Islands</td>\n",
              "      <td>NICOBARS</td>\n",
              "      <td>2000</td>\n",
              "      <td>Kharif</td>\n",
              "      <td>Arecanut</td>\n",
              "      <td>36</td>\n",
              "      <td>35</td>\n",
              "      <td>45</td>\n",
              "      <td>1254.0</td>\n",
              "      <td>2000.0</td>\n",
              "    </tr>\n",
              "    <tr>\n",
              "      <th>1</th>\n",
              "      <td>Andaman and Nicobar Islands</td>\n",
              "      <td>NICOBARS</td>\n",
              "      <td>2000</td>\n",
              "      <td>Kharif</td>\n",
              "      <td>Other Kharif pulses</td>\n",
              "      <td>37</td>\n",
              "      <td>40</td>\n",
              "      <td>46</td>\n",
              "      <td>2.0</td>\n",
              "      <td>1.0</td>\n",
              "    </tr>\n",
              "    <tr>\n",
              "      <th>2</th>\n",
              "      <td>Andaman and Nicobar Islands</td>\n",
              "      <td>NICOBARS</td>\n",
              "      <td>2000</td>\n",
              "      <td>Kharif</td>\n",
              "      <td>Rice</td>\n",
              "      <td>36</td>\n",
              "      <td>41</td>\n",
              "      <td>50</td>\n",
              "      <td>102.0</td>\n",
              "      <td>321.0</td>\n",
              "    </tr>\n",
              "    <tr>\n",
              "      <th>3</th>\n",
              "      <td>Andaman and Nicobar Islands</td>\n",
              "      <td>NICOBARS</td>\n",
              "      <td>2000</td>\n",
              "      <td>Whole Year</td>\n",
              "      <td>Banana</td>\n",
              "      <td>37</td>\n",
              "      <td>42</td>\n",
              "      <td>55</td>\n",
              "      <td>176.0</td>\n",
              "      <td>641.0</td>\n",
              "    </tr>\n",
              "    <tr>\n",
              "      <th>4</th>\n",
              "      <td>Andaman and Nicobar Islands</td>\n",
              "      <td>NICOBARS</td>\n",
              "      <td>2000</td>\n",
              "      <td>Whole Year</td>\n",
              "      <td>Cashewnut</td>\n",
              "      <td>36</td>\n",
              "      <td>40</td>\n",
              "      <td>54</td>\n",
              "      <td>720.0</td>\n",
              "      <td>165.0</td>\n",
              "    </tr>\n",
              "    <tr>\n",
              "      <th>...</th>\n",
              "      <td>...</td>\n",
              "      <td>...</td>\n",
              "      <td>...</td>\n",
              "      <td>...</td>\n",
              "      <td>...</td>\n",
              "      <td>...</td>\n",
              "      <td>...</td>\n",
              "      <td>...</td>\n",
              "      <td>...</td>\n",
              "      <td>...</td>\n",
              "    </tr>\n",
              "    <tr>\n",
              "      <th>49994</th>\n",
              "      <td>Chhattisgarh</td>\n",
              "      <td>JANJGIR-CHAMPA</td>\n",
              "      <td>2006</td>\n",
              "      <td>Kharif</td>\n",
              "      <td>Small millets</td>\n",
              "      <td>36</td>\n",
              "      <td>35</td>\n",
              "      <td>45</td>\n",
              "      <td>27.0</td>\n",
              "      <td>7.0</td>\n",
              "    </tr>\n",
              "    <tr>\n",
              "      <th>49995</th>\n",
              "      <td>Chhattisgarh</td>\n",
              "      <td>JANJGIR-CHAMPA</td>\n",
              "      <td>2006</td>\n",
              "      <td>Kharif</td>\n",
              "      <td>Soyabean</td>\n",
              "      <td>37</td>\n",
              "      <td>40</td>\n",
              "      <td>46</td>\n",
              "      <td>27.0</td>\n",
              "      <td>32.0</td>\n",
              "    </tr>\n",
              "    <tr>\n",
              "      <th>49996</th>\n",
              "      <td>Chhattisgarh</td>\n",
              "      <td>JANJGIR-CHAMPA</td>\n",
              "      <td>2006</td>\n",
              "      <td>Kharif</td>\n",
              "      <td>Sunflower</td>\n",
              "      <td>36</td>\n",
              "      <td>41</td>\n",
              "      <td>50</td>\n",
              "      <td>450.0</td>\n",
              "      <td>213.0</td>\n",
              "    </tr>\n",
              "    <tr>\n",
              "      <th>49997</th>\n",
              "      <td>Chhattisgarh</td>\n",
              "      <td>JANJGIR-CHAMPA</td>\n",
              "      <td>2006</td>\n",
              "      <td>Kharif</td>\n",
              "      <td>Urad</td>\n",
              "      <td>37</td>\n",
              "      <td>42</td>\n",
              "      <td>55</td>\n",
              "      <td>1778.0</td>\n",
              "      <td>309.0</td>\n",
              "    </tr>\n",
              "    <tr>\n",
              "      <th>49998</th>\n",
              "      <td>Chhattisgarh</td>\n",
              "      <td>JANJGIR-CHAMPA</td>\n",
              "      <td>2006</td>\n",
              "      <td>Rabi</td>\n",
              "      <td>Gram</td>\n",
              "      <td>36</td>\n",
              "      <td>40</td>\n",
              "      <td>54</td>\n",
              "      <td>216.0</td>\n",
              "      <td>194.0</td>\n",
              "    </tr>\n",
              "  </tbody>\n",
              "</table>\n",
              "<p>49999 rows × 10 columns</p>\n",
              "</div>\n",
              "      <button class=\"colab-df-convert\" onclick=\"convertToInteractive('df-6ab17852-e5bf-4223-b5c2-3ca58e647b0e')\"\n",
              "              title=\"Convert this dataframe to an interactive table.\"\n",
              "              style=\"display:none;\">\n",
              "        \n",
              "  <svg xmlns=\"http://www.w3.org/2000/svg\" height=\"24px\"viewBox=\"0 0 24 24\"\n",
              "       width=\"24px\">\n",
              "    <path d=\"M0 0h24v24H0V0z\" fill=\"none\"/>\n",
              "    <path d=\"M18.56 5.44l.94 2.06.94-2.06 2.06-.94-2.06-.94-.94-2.06-.94 2.06-2.06.94zm-11 1L8.5 8.5l.94-2.06 2.06-.94-2.06-.94L8.5 2.5l-.94 2.06-2.06.94zm10 10l.94 2.06.94-2.06 2.06-.94-2.06-.94-.94-2.06-.94 2.06-2.06.94z\"/><path d=\"M17.41 7.96l-1.37-1.37c-.4-.4-.92-.59-1.43-.59-.52 0-1.04.2-1.43.59L10.3 9.45l-7.72 7.72c-.78.78-.78 2.05 0 2.83L4 21.41c.39.39.9.59 1.41.59.51 0 1.02-.2 1.41-.59l7.78-7.78 2.81-2.81c.8-.78.8-2.07 0-2.86zM5.41 20L4 18.59l7.72-7.72 1.47 1.35L5.41 20z\"/>\n",
              "  </svg>\n",
              "      </button>\n",
              "      \n",
              "  <style>\n",
              "    .colab-df-container {\n",
              "      display:flex;\n",
              "      flex-wrap:wrap;\n",
              "      gap: 12px;\n",
              "    }\n",
              "\n",
              "    .colab-df-convert {\n",
              "      background-color: #E8F0FE;\n",
              "      border: none;\n",
              "      border-radius: 50%;\n",
              "      cursor: pointer;\n",
              "      display: none;\n",
              "      fill: #1967D2;\n",
              "      height: 32px;\n",
              "      padding: 0 0 0 0;\n",
              "      width: 32px;\n",
              "    }\n",
              "\n",
              "    .colab-df-convert:hover {\n",
              "      background-color: #E2EBFA;\n",
              "      box-shadow: 0px 1px 2px rgba(60, 64, 67, 0.3), 0px 1px 3px 1px rgba(60, 64, 67, 0.15);\n",
              "      fill: #174EA6;\n",
              "    }\n",
              "\n",
              "    [theme=dark] .colab-df-convert {\n",
              "      background-color: #3B4455;\n",
              "      fill: #D2E3FC;\n",
              "    }\n",
              "\n",
              "    [theme=dark] .colab-df-convert:hover {\n",
              "      background-color: #434B5C;\n",
              "      box-shadow: 0px 1px 3px 1px rgba(0, 0, 0, 0.15);\n",
              "      filter: drop-shadow(0px 1px 2px rgba(0, 0, 0, 0.3));\n",
              "      fill: #FFFFFF;\n",
              "    }\n",
              "  </style>\n",
              "\n",
              "      <script>\n",
              "        const buttonEl =\n",
              "          document.querySelector('#df-6ab17852-e5bf-4223-b5c2-3ca58e647b0e button.colab-df-convert');\n",
              "        buttonEl.style.display =\n",
              "          google.colab.kernel.accessAllowed ? 'block' : 'none';\n",
              "\n",
              "        async function convertToInteractive(key) {\n",
              "          const element = document.querySelector('#df-6ab17852-e5bf-4223-b5c2-3ca58e647b0e');\n",
              "          const dataTable =\n",
              "            await google.colab.kernel.invokeFunction('convertToInteractive',\n",
              "                                                     [key], {});\n",
              "          if (!dataTable) return;\n",
              "\n",
              "          const docLinkHtml = 'Like what you see? Visit the ' +\n",
              "            '<a target=\"_blank\" href=https://colab.research.google.com/notebooks/data_table.ipynb>data table notebook</a>'\n",
              "            + ' to learn more about interactive tables.';\n",
              "          element.innerHTML = '';\n",
              "          dataTable['output_type'] = 'display_data';\n",
              "          await google.colab.output.renderOutput(dataTable, element);\n",
              "          const docLink = document.createElement('div');\n",
              "          docLink.innerHTML = docLinkHtml;\n",
              "          element.appendChild(docLink);\n",
              "        }\n",
              "      </script>\n",
              "    </div>\n",
              "  </div>\n",
              "  "
            ]
          },
          "metadata": {},
          "execution_count": 205
        }
      ],
      "source": [
        "# Replacing missing values with mean of the production coloumn\n",
        "crop_data['Production'] = crop_data['Production'].fillna(crop_data['Production'].mean())\n",
        "crop_data"
      ]
    },
    {
      "cell_type": "code",
      "execution_count": null,
      "metadata": {
        "colab": {
          "base_uri": "https://localhost:8080/"
        },
        "id": "9fxHSTNWW59i",
        "outputId": "309ffe8c-9823-4dae-9e6c-3b79e19c8c1c"
      },
      "outputs": [
        {
          "output_type": "execute_result",
          "data": {
            "text/plain": [
              "False"
            ]
          },
          "metadata": {},
          "execution_count": 206
        }
      ],
      "source": [
        "#checking\n",
        "crop_data.isnull().values.any()"
      ]
    },
    {
      "cell_type": "code",
      "execution_count": null,
      "metadata": {
        "colab": {
          "base_uri": "https://localhost:8080/"
        },
        "id": "5SRKh8GqXbfR",
        "outputId": "d23433f1-3464-4727-ccde-7787d7a4f71e"
      },
      "outputs": [
        {
          "output_type": "stream",
          "name": "stdout",
          "text": [
            "['Andaman and Nicobar Islands' 'Andhra Pradesh' 'Arunachal Pradesh'\n",
            " 'Assam' 'Bihar' 'Chandigarh' 'Chhattisgarh']\n",
            "Total count of states and Union Territories: 7\n"
          ]
        }
      ],
      "source": [
        "# Displaying State Names present in the dataset\n",
        "print(crop_data.State_Name.unique())\n",
        "print('Total count of states and Union Territories:', len(crop_data.State_Name.unique()))\n"
      ]
    },
    {
      "cell_type": "code",
      "execution_count": null,
      "metadata": {
        "colab": {
          "base_uri": "https://localhost:8080/",
          "height": 580
        },
        "id": "N6W9rKGRQMbJ",
        "outputId": "b5e8e7f5-efa6-493e-853d-8d3a77512574"
      },
      "outputs": [
        {
          "output_type": "execute_result",
          "data": {
            "text/plain": [
              "                    State_Name District_Name  Crop_Year       Season  \\\n",
              "0  Andaman and Nicobar Islands      NICOBARS       2000  Kharif        \n",
              "1  Andaman and Nicobar Islands      NICOBARS       2000  Kharif        \n",
              "2  Andaman and Nicobar Islands      NICOBARS       2000  Kharif        \n",
              "3  Andaman and Nicobar Islands      NICOBARS       2000  Whole Year    \n",
              "4  Andaman and Nicobar Islands      NICOBARS       2000  Whole Year    \n",
              "5  Andaman and Nicobar Islands      NICOBARS       2000  Whole Year    \n",
              "6  Andaman and Nicobar Islands      NICOBARS       2000  Whole Year    \n",
              "7  Andaman and Nicobar Islands      NICOBARS       2000  Whole Year    \n",
              "8  Andaman and Nicobar Islands      NICOBARS       2000  Whole Year    \n",
              "9  Andaman and Nicobar Islands      NICOBARS       2000  Whole Year    \n",
              "\n",
              "                  Crop  Temperature  Humidity  Soil_Moisture     Area  \\\n",
              "0             Arecanut           36        35             45   1254.0   \n",
              "1  Other Kharif pulses           37        40             46      2.0   \n",
              "2                 Rice           36        41             50    102.0   \n",
              "3               Banana           37        42             55    176.0   \n",
              "4            Cashewnut           36        40             54    720.0   \n",
              "5             Coconut            34        45             52  18168.0   \n",
              "6           Dry ginger           34        55             62     36.0   \n",
              "7            Sugarcane           35        50             59      1.0   \n",
              "8         Sweet potato           25        55             55      5.0   \n",
              "9              Tapioca           36        35             45     40.0   \n",
              "\n",
              "   Production        Yield  \n",
              "0      2000.0     1.594896  \n",
              "1         1.0     0.500000  \n",
              "2       321.0     3.147059  \n",
              "3       641.0     3.642045  \n",
              "4       165.0     0.229167  \n",
              "5  65100000.0  3583.223250  \n",
              "6       100.0     2.777778  \n",
              "7         2.0     2.000000  \n",
              "8        15.0     3.000000  \n",
              "9       169.0     4.225000  "
            ],
            "text/html": [
              "\n",
              "  <div id=\"df-9c38ee88-7dbe-4f31-91c7-bef615753f2e\">\n",
              "    <div class=\"colab-df-container\">\n",
              "      <div>\n",
              "<style scoped>\n",
              "    .dataframe tbody tr th:only-of-type {\n",
              "        vertical-align: middle;\n",
              "    }\n",
              "\n",
              "    .dataframe tbody tr th {\n",
              "        vertical-align: top;\n",
              "    }\n",
              "\n",
              "    .dataframe thead th {\n",
              "        text-align: right;\n",
              "    }\n",
              "</style>\n",
              "<table border=\"1\" class=\"dataframe\">\n",
              "  <thead>\n",
              "    <tr style=\"text-align: right;\">\n",
              "      <th></th>\n",
              "      <th>State_Name</th>\n",
              "      <th>District_Name</th>\n",
              "      <th>Crop_Year</th>\n",
              "      <th>Season</th>\n",
              "      <th>Crop</th>\n",
              "      <th>Temperature</th>\n",
              "      <th>Humidity</th>\n",
              "      <th>Soil_Moisture</th>\n",
              "      <th>Area</th>\n",
              "      <th>Production</th>\n",
              "      <th>Yield</th>\n",
              "    </tr>\n",
              "  </thead>\n",
              "  <tbody>\n",
              "    <tr>\n",
              "      <th>0</th>\n",
              "      <td>Andaman and Nicobar Islands</td>\n",
              "      <td>NICOBARS</td>\n",
              "      <td>2000</td>\n",
              "      <td>Kharif</td>\n",
              "      <td>Arecanut</td>\n",
              "      <td>36</td>\n",
              "      <td>35</td>\n",
              "      <td>45</td>\n",
              "      <td>1254.0</td>\n",
              "      <td>2000.0</td>\n",
              "      <td>1.594896</td>\n",
              "    </tr>\n",
              "    <tr>\n",
              "      <th>1</th>\n",
              "      <td>Andaman and Nicobar Islands</td>\n",
              "      <td>NICOBARS</td>\n",
              "      <td>2000</td>\n",
              "      <td>Kharif</td>\n",
              "      <td>Other Kharif pulses</td>\n",
              "      <td>37</td>\n",
              "      <td>40</td>\n",
              "      <td>46</td>\n",
              "      <td>2.0</td>\n",
              "      <td>1.0</td>\n",
              "      <td>0.500000</td>\n",
              "    </tr>\n",
              "    <tr>\n",
              "      <th>2</th>\n",
              "      <td>Andaman and Nicobar Islands</td>\n",
              "      <td>NICOBARS</td>\n",
              "      <td>2000</td>\n",
              "      <td>Kharif</td>\n",
              "      <td>Rice</td>\n",
              "      <td>36</td>\n",
              "      <td>41</td>\n",
              "      <td>50</td>\n",
              "      <td>102.0</td>\n",
              "      <td>321.0</td>\n",
              "      <td>3.147059</td>\n",
              "    </tr>\n",
              "    <tr>\n",
              "      <th>3</th>\n",
              "      <td>Andaman and Nicobar Islands</td>\n",
              "      <td>NICOBARS</td>\n",
              "      <td>2000</td>\n",
              "      <td>Whole Year</td>\n",
              "      <td>Banana</td>\n",
              "      <td>37</td>\n",
              "      <td>42</td>\n",
              "      <td>55</td>\n",
              "      <td>176.0</td>\n",
              "      <td>641.0</td>\n",
              "      <td>3.642045</td>\n",
              "    </tr>\n",
              "    <tr>\n",
              "      <th>4</th>\n",
              "      <td>Andaman and Nicobar Islands</td>\n",
              "      <td>NICOBARS</td>\n",
              "      <td>2000</td>\n",
              "      <td>Whole Year</td>\n",
              "      <td>Cashewnut</td>\n",
              "      <td>36</td>\n",
              "      <td>40</td>\n",
              "      <td>54</td>\n",
              "      <td>720.0</td>\n",
              "      <td>165.0</td>\n",
              "      <td>0.229167</td>\n",
              "    </tr>\n",
              "    <tr>\n",
              "      <th>5</th>\n",
              "      <td>Andaman and Nicobar Islands</td>\n",
              "      <td>NICOBARS</td>\n",
              "      <td>2000</td>\n",
              "      <td>Whole Year</td>\n",
              "      <td>Coconut</td>\n",
              "      <td>34</td>\n",
              "      <td>45</td>\n",
              "      <td>52</td>\n",
              "      <td>18168.0</td>\n",
              "      <td>65100000.0</td>\n",
              "      <td>3583.223250</td>\n",
              "    </tr>\n",
              "    <tr>\n",
              "      <th>6</th>\n",
              "      <td>Andaman and Nicobar Islands</td>\n",
              "      <td>NICOBARS</td>\n",
              "      <td>2000</td>\n",
              "      <td>Whole Year</td>\n",
              "      <td>Dry ginger</td>\n",
              "      <td>34</td>\n",
              "      <td>55</td>\n",
              "      <td>62</td>\n",
              "      <td>36.0</td>\n",
              "      <td>100.0</td>\n",
              "      <td>2.777778</td>\n",
              "    </tr>\n",
              "    <tr>\n",
              "      <th>7</th>\n",
              "      <td>Andaman and Nicobar Islands</td>\n",
              "      <td>NICOBARS</td>\n",
              "      <td>2000</td>\n",
              "      <td>Whole Year</td>\n",
              "      <td>Sugarcane</td>\n",
              "      <td>35</td>\n",
              "      <td>50</td>\n",
              "      <td>59</td>\n",
              "      <td>1.0</td>\n",
              "      <td>2.0</td>\n",
              "      <td>2.000000</td>\n",
              "    </tr>\n",
              "    <tr>\n",
              "      <th>8</th>\n",
              "      <td>Andaman and Nicobar Islands</td>\n",
              "      <td>NICOBARS</td>\n",
              "      <td>2000</td>\n",
              "      <td>Whole Year</td>\n",
              "      <td>Sweet potato</td>\n",
              "      <td>25</td>\n",
              "      <td>55</td>\n",
              "      <td>55</td>\n",
              "      <td>5.0</td>\n",
              "      <td>15.0</td>\n",
              "      <td>3.000000</td>\n",
              "    </tr>\n",
              "    <tr>\n",
              "      <th>9</th>\n",
              "      <td>Andaman and Nicobar Islands</td>\n",
              "      <td>NICOBARS</td>\n",
              "      <td>2000</td>\n",
              "      <td>Whole Year</td>\n",
              "      <td>Tapioca</td>\n",
              "      <td>36</td>\n",
              "      <td>35</td>\n",
              "      <td>45</td>\n",
              "      <td>40.0</td>\n",
              "      <td>169.0</td>\n",
              "      <td>4.225000</td>\n",
              "    </tr>\n",
              "  </tbody>\n",
              "</table>\n",
              "</div>\n",
              "      <button class=\"colab-df-convert\" onclick=\"convertToInteractive('df-9c38ee88-7dbe-4f31-91c7-bef615753f2e')\"\n",
              "              title=\"Convert this dataframe to an interactive table.\"\n",
              "              style=\"display:none;\">\n",
              "        \n",
              "  <svg xmlns=\"http://www.w3.org/2000/svg\" height=\"24px\"viewBox=\"0 0 24 24\"\n",
              "       width=\"24px\">\n",
              "    <path d=\"M0 0h24v24H0V0z\" fill=\"none\"/>\n",
              "    <path d=\"M18.56 5.44l.94 2.06.94-2.06 2.06-.94-2.06-.94-.94-2.06-.94 2.06-2.06.94zm-11 1L8.5 8.5l.94-2.06 2.06-.94-2.06-.94L8.5 2.5l-.94 2.06-2.06.94zm10 10l.94 2.06.94-2.06 2.06-.94-2.06-.94-.94-2.06-.94 2.06-2.06.94z\"/><path d=\"M17.41 7.96l-1.37-1.37c-.4-.4-.92-.59-1.43-.59-.52 0-1.04.2-1.43.59L10.3 9.45l-7.72 7.72c-.78.78-.78 2.05 0 2.83L4 21.41c.39.39.9.59 1.41.59.51 0 1.02-.2 1.41-.59l7.78-7.78 2.81-2.81c.8-.78.8-2.07 0-2.86zM5.41 20L4 18.59l7.72-7.72 1.47 1.35L5.41 20z\"/>\n",
              "  </svg>\n",
              "      </button>\n",
              "      \n",
              "  <style>\n",
              "    .colab-df-container {\n",
              "      display:flex;\n",
              "      flex-wrap:wrap;\n",
              "      gap: 12px;\n",
              "    }\n",
              "\n",
              "    .colab-df-convert {\n",
              "      background-color: #E8F0FE;\n",
              "      border: none;\n",
              "      border-radius: 50%;\n",
              "      cursor: pointer;\n",
              "      display: none;\n",
              "      fill: #1967D2;\n",
              "      height: 32px;\n",
              "      padding: 0 0 0 0;\n",
              "      width: 32px;\n",
              "    }\n",
              "\n",
              "    .colab-df-convert:hover {\n",
              "      background-color: #E2EBFA;\n",
              "      box-shadow: 0px 1px 2px rgba(60, 64, 67, 0.3), 0px 1px 3px 1px rgba(60, 64, 67, 0.15);\n",
              "      fill: #174EA6;\n",
              "    }\n",
              "\n",
              "    [theme=dark] .colab-df-convert {\n",
              "      background-color: #3B4455;\n",
              "      fill: #D2E3FC;\n",
              "    }\n",
              "\n",
              "    [theme=dark] .colab-df-convert:hover {\n",
              "      background-color: #434B5C;\n",
              "      box-shadow: 0px 1px 3px 1px rgba(0, 0, 0, 0.15);\n",
              "      filter: drop-shadow(0px 1px 2px rgba(0, 0, 0, 0.3));\n",
              "      fill: #FFFFFF;\n",
              "    }\n",
              "  </style>\n",
              "\n",
              "      <script>\n",
              "        const buttonEl =\n",
              "          document.querySelector('#df-9c38ee88-7dbe-4f31-91c7-bef615753f2e button.colab-df-convert');\n",
              "        buttonEl.style.display =\n",
              "          google.colab.kernel.accessAllowed ? 'block' : 'none';\n",
              "\n",
              "        async function convertToInteractive(key) {\n",
              "          const element = document.querySelector('#df-9c38ee88-7dbe-4f31-91c7-bef615753f2e');\n",
              "          const dataTable =\n",
              "            await google.colab.kernel.invokeFunction('convertToInteractive',\n",
              "                                                     [key], {});\n",
              "          if (!dataTable) return;\n",
              "\n",
              "          const docLinkHtml = 'Like what you see? Visit the ' +\n",
              "            '<a target=\"_blank\" href=https://colab.research.google.com/notebooks/data_table.ipynb>data table notebook</a>'\n",
              "            + ' to learn more about interactive tables.';\n",
              "          element.innerHTML = '';\n",
              "          dataTable['output_type'] = 'display_data';\n",
              "          await google.colab.output.renderOutput(dataTable, element);\n",
              "          const docLink = document.createElement('div');\n",
              "          docLink.innerHTML = docLinkHtml;\n",
              "          element.appendChild(docLink);\n",
              "        }\n",
              "      </script>\n",
              "    </div>\n",
              "  </div>\n",
              "  "
            ]
          },
          "metadata": {},
          "execution_count": 208
        }
      ],
      "source": [
        "# Adding a new column Yield which indicates Production per unit Area. \n",
        "\n",
        "crop_data['Yield'] = (crop_data['Production'] / crop_data['Area'])\n",
        "crop_data.head(10) "
      ]
    },
    {
      "cell_type": "code",
      "execution_count": null,
      "metadata": {
        "id": "yiGXMLevMBpN"
      },
      "outputs": [],
      "source": [
        "# Dropping unnecessary columns\n",
        "\n",
        "data = crop_data.drop(['State_Name'], axis = 1)"
      ]
    },
    {
      "cell_type": "code",
      "execution_count": null,
      "metadata": {
        "colab": {
          "base_uri": "https://localhost:8080/",
          "height": 269
        },
        "id": "fI2O01qTN1ru",
        "outputId": "81756f2e-9f34-4315-b108-74a1ed9def84"
      },
      "outputs": [
        {
          "output_type": "execute_result",
          "data": {
            "text/plain": [
              "               Crop_Year  Temperature  Humidity  Soil_Moisture      Area  \\\n",
              "Crop_Year       1.000000     0.000505 -0.001339      -0.001533  0.000842   \n",
              "Temperature     0.000505     1.000000 -0.696194      -0.286471 -0.000204   \n",
              "Humidity       -0.001339    -0.696194  1.000000       0.812524 -0.000787   \n",
              "Soil_Moisture  -0.001533    -0.286471  0.812524       1.000000  0.000700   \n",
              "Area            0.000842    -0.000204 -0.000787       0.000700  1.000000   \n",
              "Production      0.007962     0.005063 -0.002596      -0.000754  0.027836   \n",
              "Yield           0.015756     0.000367 -0.000893       0.001810 -0.012039   \n",
              "\n",
              "               Production     Yield  \n",
              "Crop_Year        0.007962  0.015756  \n",
              "Temperature      0.005063  0.000367  \n",
              "Humidity        -0.002596 -0.000893  \n",
              "Soil_Moisture   -0.000754  0.001810  \n",
              "Area             0.027836 -0.012039  \n",
              "Production       1.000000  0.027050  \n",
              "Yield            0.027050  1.000000  "
            ],
            "text/html": [
              "\n",
              "  <div id=\"df-e8242d53-7fca-4fad-8064-6e57bbd9c1d2\">\n",
              "    <div class=\"colab-df-container\">\n",
              "      <div>\n",
              "<style scoped>\n",
              "    .dataframe tbody tr th:only-of-type {\n",
              "        vertical-align: middle;\n",
              "    }\n",
              "\n",
              "    .dataframe tbody tr th {\n",
              "        vertical-align: top;\n",
              "    }\n",
              "\n",
              "    .dataframe thead th {\n",
              "        text-align: right;\n",
              "    }\n",
              "</style>\n",
              "<table border=\"1\" class=\"dataframe\">\n",
              "  <thead>\n",
              "    <tr style=\"text-align: right;\">\n",
              "      <th></th>\n",
              "      <th>Crop_Year</th>\n",
              "      <th>Temperature</th>\n",
              "      <th>Humidity</th>\n",
              "      <th>Soil_Moisture</th>\n",
              "      <th>Area</th>\n",
              "      <th>Production</th>\n",
              "      <th>Yield</th>\n",
              "    </tr>\n",
              "  </thead>\n",
              "  <tbody>\n",
              "    <tr>\n",
              "      <th>Crop_Year</th>\n",
              "      <td>1.000000</td>\n",
              "      <td>0.000505</td>\n",
              "      <td>-0.001339</td>\n",
              "      <td>-0.001533</td>\n",
              "      <td>0.000842</td>\n",
              "      <td>0.007962</td>\n",
              "      <td>0.015756</td>\n",
              "    </tr>\n",
              "    <tr>\n",
              "      <th>Temperature</th>\n",
              "      <td>0.000505</td>\n",
              "      <td>1.000000</td>\n",
              "      <td>-0.696194</td>\n",
              "      <td>-0.286471</td>\n",
              "      <td>-0.000204</td>\n",
              "      <td>0.005063</td>\n",
              "      <td>0.000367</td>\n",
              "    </tr>\n",
              "    <tr>\n",
              "      <th>Humidity</th>\n",
              "      <td>-0.001339</td>\n",
              "      <td>-0.696194</td>\n",
              "      <td>1.000000</td>\n",
              "      <td>0.812524</td>\n",
              "      <td>-0.000787</td>\n",
              "      <td>-0.002596</td>\n",
              "      <td>-0.000893</td>\n",
              "    </tr>\n",
              "    <tr>\n",
              "      <th>Soil_Moisture</th>\n",
              "      <td>-0.001533</td>\n",
              "      <td>-0.286471</td>\n",
              "      <td>0.812524</td>\n",
              "      <td>1.000000</td>\n",
              "      <td>0.000700</td>\n",
              "      <td>-0.000754</td>\n",
              "      <td>0.001810</td>\n",
              "    </tr>\n",
              "    <tr>\n",
              "      <th>Area</th>\n",
              "      <td>0.000842</td>\n",
              "      <td>-0.000204</td>\n",
              "      <td>-0.000787</td>\n",
              "      <td>0.000700</td>\n",
              "      <td>1.000000</td>\n",
              "      <td>0.027836</td>\n",
              "      <td>-0.012039</td>\n",
              "    </tr>\n",
              "    <tr>\n",
              "      <th>Production</th>\n",
              "      <td>0.007962</td>\n",
              "      <td>0.005063</td>\n",
              "      <td>-0.002596</td>\n",
              "      <td>-0.000754</td>\n",
              "      <td>0.027836</td>\n",
              "      <td>1.000000</td>\n",
              "      <td>0.027050</td>\n",
              "    </tr>\n",
              "    <tr>\n",
              "      <th>Yield</th>\n",
              "      <td>0.015756</td>\n",
              "      <td>0.000367</td>\n",
              "      <td>-0.000893</td>\n",
              "      <td>0.001810</td>\n",
              "      <td>-0.012039</td>\n",
              "      <td>0.027050</td>\n",
              "      <td>1.000000</td>\n",
              "    </tr>\n",
              "  </tbody>\n",
              "</table>\n",
              "</div>\n",
              "      <button class=\"colab-df-convert\" onclick=\"convertToInteractive('df-e8242d53-7fca-4fad-8064-6e57bbd9c1d2')\"\n",
              "              title=\"Convert this dataframe to an interactive table.\"\n",
              "              style=\"display:none;\">\n",
              "        \n",
              "  <svg xmlns=\"http://www.w3.org/2000/svg\" height=\"24px\"viewBox=\"0 0 24 24\"\n",
              "       width=\"24px\">\n",
              "    <path d=\"M0 0h24v24H0V0z\" fill=\"none\"/>\n",
              "    <path d=\"M18.56 5.44l.94 2.06.94-2.06 2.06-.94-2.06-.94-.94-2.06-.94 2.06-2.06.94zm-11 1L8.5 8.5l.94-2.06 2.06-.94-2.06-.94L8.5 2.5l-.94 2.06-2.06.94zm10 10l.94 2.06.94-2.06 2.06-.94-2.06-.94-.94-2.06-.94 2.06-2.06.94z\"/><path d=\"M17.41 7.96l-1.37-1.37c-.4-.4-.92-.59-1.43-.59-.52 0-1.04.2-1.43.59L10.3 9.45l-7.72 7.72c-.78.78-.78 2.05 0 2.83L4 21.41c.39.39.9.59 1.41.59.51 0 1.02-.2 1.41-.59l7.78-7.78 2.81-2.81c.8-.78.8-2.07 0-2.86zM5.41 20L4 18.59l7.72-7.72 1.47 1.35L5.41 20z\"/>\n",
              "  </svg>\n",
              "      </button>\n",
              "      \n",
              "  <style>\n",
              "    .colab-df-container {\n",
              "      display:flex;\n",
              "      flex-wrap:wrap;\n",
              "      gap: 12px;\n",
              "    }\n",
              "\n",
              "    .colab-df-convert {\n",
              "      background-color: #E8F0FE;\n",
              "      border: none;\n",
              "      border-radius: 50%;\n",
              "      cursor: pointer;\n",
              "      display: none;\n",
              "      fill: #1967D2;\n",
              "      height: 32px;\n",
              "      padding: 0 0 0 0;\n",
              "      width: 32px;\n",
              "    }\n",
              "\n",
              "    .colab-df-convert:hover {\n",
              "      background-color: #E2EBFA;\n",
              "      box-shadow: 0px 1px 2px rgba(60, 64, 67, 0.3), 0px 1px 3px 1px rgba(60, 64, 67, 0.15);\n",
              "      fill: #174EA6;\n",
              "    }\n",
              "\n",
              "    [theme=dark] .colab-df-convert {\n",
              "      background-color: #3B4455;\n",
              "      fill: #D2E3FC;\n",
              "    }\n",
              "\n",
              "    [theme=dark] .colab-df-convert:hover {\n",
              "      background-color: #434B5C;\n",
              "      box-shadow: 0px 1px 3px 1px rgba(0, 0, 0, 0.15);\n",
              "      filter: drop-shadow(0px 1px 2px rgba(0, 0, 0, 0.3));\n",
              "      fill: #FFFFFF;\n",
              "    }\n",
              "  </style>\n",
              "\n",
              "      <script>\n",
              "        const buttonEl =\n",
              "          document.querySelector('#df-e8242d53-7fca-4fad-8064-6e57bbd9c1d2 button.colab-df-convert');\n",
              "        buttonEl.style.display =\n",
              "          google.colab.kernel.accessAllowed ? 'block' : 'none';\n",
              "\n",
              "        async function convertToInteractive(key) {\n",
              "          const element = document.querySelector('#df-e8242d53-7fca-4fad-8064-6e57bbd9c1d2');\n",
              "          const dataTable =\n",
              "            await google.colab.kernel.invokeFunction('convertToInteractive',\n",
              "                                                     [key], {});\n",
              "          if (!dataTable) return;\n",
              "\n",
              "          const docLinkHtml = 'Like what you see? Visit the ' +\n",
              "            '<a target=\"_blank\" href=https://colab.research.google.com/notebooks/data_table.ipynb>data table notebook</a>'\n",
              "            + ' to learn more about interactive tables.';\n",
              "          element.innerHTML = '';\n",
              "          dataTable['output_type'] = 'display_data';\n",
              "          await google.colab.output.renderOutput(dataTable, element);\n",
              "          const docLink = document.createElement('div');\n",
              "          docLink.innerHTML = docLinkHtml;\n",
              "          element.appendChild(docLink);\n",
              "        }\n",
              "      </script>\n",
              "    </div>\n",
              "  </div>\n",
              "  "
            ]
          },
          "metadata": {},
          "execution_count": 210
        }
      ],
      "source": [
        "data.corr()"
      ]
    },
    {
      "cell_type": "code",
      "execution_count": null,
      "metadata": {
        "colab": {
          "base_uri": "https://localhost:8080/",
          "height": 354
        },
        "id": "6V8QkEspN1rv",
        "outputId": "86600c46-ee52-407a-de87-f04d173a2380"
      },
      "outputs": [
        {
          "output_type": "execute_result",
          "data": {
            "text/plain": [
              "Text(0.5, 1.0, 'Correlation Matrix')"
            ]
          },
          "metadata": {},
          "execution_count": 211
        },
        {
          "output_type": "display_data",
          "data": {
            "text/plain": [
              "<Figure size 432x288 with 2 Axes>"
            ],
            "image/png": "[encoded data removed]"
          },
          "metadata": {
            "needs_background": "light"
          }
        }
      ],
      "source": [
        "sns.heatmap(data.corr(), annot =True, fmt='.4f')\n",
        "plt.title('Correlation Matrix')"
      ]
    },
    {
      "cell_type": "code",
      "execution_count": null,
      "metadata": {
        "colab": {
          "base_uri": "https://localhost:8080/",
          "height": 522
        },
        "id": "5D80WMCwKLaY",
        "outputId": "53b2c013-6386-4da8-9325-e0e9a01ec3c7"
      },
      "outputs": [
        {
          "output_type": "execute_result",
          "data": {
            "text/plain": [
              "       Crop_Year  Temperature  Humidity  Soil_Moisture    Area  Production  \\\n",
              "0           2000           36        35             45  1254.0      2000.0   \n",
              "1           2000           37        40             46     2.0         1.0   \n",
              "2           2000           36        41             50   102.0       321.0   \n",
              "3           2000           37        42             55   176.0       641.0   \n",
              "4           2000           36        40             54   720.0       165.0   \n",
              "...          ...          ...       ...            ...     ...         ...   \n",
              "49994       2006           36        35             45    27.0         7.0   \n",
              "49995       2006           37        40             46    27.0        32.0   \n",
              "49996       2006           36        41             50   450.0       213.0   \n",
              "49997       2006           37        42             55  1778.0       309.0   \n",
              "49998       2006           36        40             54   216.0       194.0   \n",
              "\n",
              "          Yield  District_Name_ANANTAPUR  District_Name_ANJAW  \\\n",
              "0      1.594896                        0                    0   \n",
              "1      0.500000                        0                    0   \n",
              "2      3.147059                        0                    0   \n",
              "3      3.642045                        0                    0   \n",
              "4      0.229167                        0                    0   \n",
              "...         ...                      ...                  ...   \n",
              "49994  0.259259                        0                    0   \n",
              "49995  1.185185                        0                    0   \n",
              "49996  0.473333                        0                    0   \n",
              "49997  0.173791                        0                    0   \n",
              "49998  0.898148                        0                    0   \n",
              "\n",
              "       District_Name_ARARIA  ...  Crop_Tapioca  Crop_Tobacco  Crop_Tomato  \\\n",
              "0                         0  ...             0             0            0   \n",
              "1                         0  ...             0             0            0   \n",
              "2                         0  ...             0             0            0   \n",
              "3                         0  ...             0             0            0   \n",
              "4                         0  ...             0             0            0   \n",
              "...                     ...  ...           ...           ...          ...   \n",
              "49994                     0  ...             0             0            0   \n",
              "49995                     0  ...             0             0            0   \n",
              "49996                     0  ...             0             0            0   \n",
              "49997                     0  ...             0             0            0   \n",
              "49998                     0  ...             0             0            0   \n",
              "\n",
              "       Crop_Turmeric  Crop_Urad  Crop_Varagu  Crop_Wheat  Crop_other fibres  \\\n",
              "0                  0          0            0           0                  0   \n",
              "1                  0          0            0           0                  0   \n",
              "2                  0          0            0           0                  0   \n",
              "3                  0          0            0           0                  0   \n",
              "4                  0          0            0           0                  0   \n",
              "...              ...        ...          ...         ...                ...   \n",
              "49994              0          0            0           0                  0   \n",
              "49995              0          0            0           0                  0   \n",
              "49996              0          0            0           0                  0   \n",
              "49997              0          1            0           0                  0   \n",
              "49998              0          0            0           0                  0   \n",
              "\n",
              "       Crop_other misc. pulses  Crop_other oilseeds  \n",
              "0                            0                    0  \n",
              "1                            0                    0  \n",
              "2                            0                    0  \n",
              "3                            0                    0  \n",
              "4                            0                    0  \n",
              "...                        ...                  ...  \n",
              "49994                        0                    0  \n",
              "49995                        0                    0  \n",
              "49996                        0                    0  \n",
              "49997                        0                    0  \n",
              "49998                        0                    0  \n",
              "\n",
              "[49999 rows x 205 columns]"
            ],
            "text/html": [
              "\n",
              "  <div id=\"df-92b13fbd-96dc-4fd1-ad69-78e285592ca4\">\n",
              "    <div class=\"colab-df-container\">\n",
              "      <div>\n",
              "<style scoped>\n",
              "    .dataframe tbody tr th:only-of-type {\n",
              "        vertical-align: middle;\n",
              "    }\n",
              "\n",
              "    .dataframe tbody tr th {\n",
              "        vertical-align: top;\n",
              "    }\n",
              "\n",
              "    .dataframe thead th {\n",
              "        text-align: right;\n",
              "    }\n",
              "</style>\n",
              "<table border=\"1\" class=\"dataframe\">\n",
              "  <thead>\n",
              "    <tr style=\"text-align: right;\">\n",
              "      <th></th>\n",
              "      <th>Crop_Year</th>\n",
              "      <th>Temperature</th>\n",
              "      <th>Humidity</th>\n",
              "      <th>Soil_Moisture</th>\n",
              "      <th>Area</th>\n",
              "      <th>Production</th>\n",
              "      <th>Yield</th>\n",
              "      <th>District_Name_ANANTAPUR</th>\n",
              "      <th>District_Name_ANJAW</th>\n",
              "      <th>District_Name_ARARIA</th>\n",
              "      <th>...</th>\n",
              "      <th>Crop_Tapioca</th>\n",
              "      <th>Crop_Tobacco</th>\n",
              "      <th>Crop_Tomato</th>\n",
              "      <th>Crop_Turmeric</th>\n",
              "      <th>Crop_Urad</th>\n",
              "      <th>Crop_Varagu</th>\n",
              "      <th>Crop_Wheat</th>\n",
              "      <th>Crop_other fibres</th>\n",
              "      <th>Crop_other misc. pulses</th>\n",
              "      <th>Crop_other oilseeds</th>\n",
              "    </tr>\n",
              "  </thead>\n",
              "  <tbody>\n",
              "    <tr>\n",
              "      <th>0</th>\n",
              "      <td>2000</td>\n",
              "      <td>36</td>\n",
              "      <td>35</td>\n",
              "      <td>45</td>\n",
              "      <td>1254.0</td>\n",
              "      <td>2000.0</td>\n",
              "      <td>1.594896</td>\n",
              "      <td>0</td>\n",
              "      <td>0</td>\n",
              "      <td>0</td>\n",
              "      <td>...</td>\n",
              "      <td>0</td>\n",
              "      <td>0</td>\n",
              "      <td>0</td>\n",
              "      <td>0</td>\n",
              "      <td>0</td>\n",
              "      <td>0</td>\n",
              "      <td>0</td>\n",
              "      <td>0</td>\n",
              "      <td>0</td>\n",
              "      <td>0</td>\n",
              "    </tr>\n",
              "    <tr>\n",
              "      <th>1</th>\n",
              "      <td>2000</td>\n",
              "      <td>37</td>\n",
              "      <td>40</td>\n",
              "      <td>46</td>\n",
              "      <td>2.0</td>\n",
              "      <td>1.0</td>\n",
              "      <td>0.500000</td>\n",
              "      <td>0</td>\n",
              "      <td>0</td>\n",
              "      <td>0</td>\n",
              "      <td>...</td>\n",
              "      <td>0</td>\n",
              "      <td>0</td>\n",
              "      <td>0</td>\n",
              "      <td>0</td>\n",
              "      <td>0</td>\n",
              "      <td>0</td>\n",
              "      <td>0</td>\n",
              "      <td>0</td>\n",
              "      <td>0</td>\n",
              "      <td>0</td>\n",
              "    </tr>\n",
              "    <tr>\n",
              "      <th>2</th>\n",
              "      <td>2000</td>\n",
              "      <td>36</td>\n",
              "      <td>41</td>\n",
              "      <td>50</td>\n",
              "      <td>102.0</td>\n",
              "      <td>321.0</td>\n",
              "      <td>3.147059</td>\n",
              "      <td>0</td>\n",
              "      <td>0</td>\n",
              "      <td>0</td>\n",
              "      <td>...</td>\n",
              "      <td>0</td>\n",
              "      <td>0</td>\n",
              "      <td>0</td>\n",
              "      <td>0</td>\n",
              "      <td>0</td>\n",
              "      <td>0</td>\n",
              "      <td>0</td>\n",
              "      <td>0</td>\n",
              "      <td>0</td>\n",
              "      <td>0</td>\n",
              "    </tr>\n",
              "    <tr>\n",
              "      <th>3</th>\n",
              "      <td>2000</td>\n",
              "      <td>37</td>\n",
              "      <td>42</td>\n",
              "      <td>55</td>\n",
              "      <td>176.0</td>\n",
              "      <td>641.0</td>\n",
              "      <td>3.642045</td>\n",
              "      <td>0</td>\n",
              "      <td>0</td>\n",
              "      <td>0</td>\n",
              "      <td>...</td>\n",
              "      <td>0</td>\n",
              "      <td>0</td>\n",
              "      <td>0</td>\n",
              "      <td>0</td>\n",
              "      <td>0</td>\n",
              "      <td>0</td>\n",
              "      <td>0</td>\n",
              "      <td>0</td>\n",
              "      <td>0</td>\n",
              "      <td>0</td>\n",
              "    </tr>\n",
              "    <tr>\n",
              "      <th>4</th>\n",
              "      <td>2000</td>\n",
              "      <td>36</td>\n",
              "      <td>40</td>\n",
              "      <td>54</td>\n",
              "      <td>720.0</td>\n",
              "      <td>165.0</td>\n",
              "      <td>0.229167</td>\n",
              "      <td>0</td>\n",
              "      <td>0</td>\n",
              "      <td>0</td>\n",
              "      <td>...</td>\n",
              "      <td>0</td>\n",
              "      <td>0</td>\n",
              "      <td>0</td>\n",
              "      <td>0</td>\n",
              "      <td>0</td>\n",
              "      <td>0</td>\n",
              "      <td>0</td>\n",
              "      <td>0</td>\n",
              "      <td>0</td>\n",
              "      <td>0</td>\n",
              "    </tr>\n",
              "    <tr>\n",
              "      <th>...</th>\n",
              "      <td>...</td>\n",
              "      <td>...</td>\n",
              "      <td>...</td>\n",
              "      <td>...</td>\n",
              "      <td>...</td>\n",
              "      <td>...</td>\n",
              "      <td>...</td>\n",
              "      <td>...</td>\n",
              "      <td>...</td>\n",
              "      <td>...</td>\n",
              "      <td>...</td>\n",
              "      <td>...</td>\n",
              "      <td>...</td>\n",
              "      <td>...</td>\n",
              "      <td>...</td>\n",
              "      <td>...</td>\n",
              "      <td>...</td>\n",
              "      <td>...</td>\n",
              "      <td>...</td>\n",
              "      <td>...</td>\n",
              "      <td>...</td>\n",
              "    </tr>\n",
              "    <tr>\n",
              "      <th>49994</th>\n",
              "      <td>2006</td>\n",
              "      <td>36</td>\n",
              "      <td>35</td>\n",
              "      <td>45</td>\n",
              "      <td>27.0</td>\n",
              "      <td>7.0</td>\n",
              "      <td>0.259259</td>\n",
              "      <td>0</td>\n",
              "      <td>0</td>\n",
              "      <td>0</td>\n",
              "      <td>...</td>\n",
              "      <td>0</td>\n",
              "      <td>0</td>\n",
              "      <td>0</td>\n",
              "      <td>0</td>\n",
              "      <td>0</td>\n",
              "      <td>0</td>\n",
              "      <td>0</td>\n",
              "      <td>0</td>\n",
              "      <td>0</td>\n",
              "      <td>0</td>\n",
              "    </tr>\n",
              "    <tr>\n",
              "      <th>49995</th>\n",
              "      <td>2006</td>\n",
              "      <td>37</td>\n",
              "      <td>40</td>\n",
              "      <td>46</td>\n",
              "      <td>27.0</td>\n",
              "      <td>32.0</td>\n",
              "      <td>1.185185</td>\n",
              "      <td>0</td>\n",
              "      <td>0</td>\n",
              "      <td>0</td>\n",
              "      <td>...</td>\n",
              "      <td>0</td>\n",
              "      <td>0</td>\n",
              "      <td>0</td>\n",
              "      <td>0</td>\n",
              "      <td>0</td>\n",
              "      <td>0</td>\n",
              "      <td>0</td>\n",
              "      <td>0</td>\n",
              "      <td>0</td>\n",
              "      <td>0</td>\n",
              "    </tr>\n",
              "    <tr>\n",
              "      <th>49996</th>\n",
              "      <td>2006</td>\n",
              "      <td>36</td>\n",
              "      <td>41</td>\n",
              "      <td>50</td>\n",
              "      <td>450.0</td>\n",
              "      <td>213.0</td>\n",
              "      <td>0.473333</td>\n",
              "      <td>0</td>\n",
              "      <td>0</td>\n",
              "      <td>0</td>\n",
              "      <td>...</td>\n",
              "      <td>0</td>\n",
              "      <td>0</td>\n",
              "      <td>0</td>\n",
              "      <td>0</td>\n",
              "      <td>0</td>\n",
              "      <td>0</td>\n",
              "      <td>0</td>\n",
              "      <td>0</td>\n",
              "      <td>0</td>\n",
              "      <td>0</td>\n",
              "    </tr>\n",
              "    <tr>\n",
              "      <th>49997</th>\n",
              "      <td>2006</td>\n",
              "      <td>37</td>\n",
              "      <td>42</td>\n",
              "      <td>55</td>\n",
              "      <td>1778.0</td>\n",
              "      <td>309.0</td>\n",
              "      <td>0.173791</td>\n",
              "      <td>0</td>\n",
              "      <td>0</td>\n",
              "      <td>0</td>\n",
              "      <td>...</td>\n",
              "      <td>0</td>\n",
              "      <td>0</td>\n",
              "      <td>0</td>\n",
              "      <td>0</td>\n",
              "      <td>1</td>\n",
              "      <td>0</td>\n",
              "      <td>0</td>\n",
              "      <td>0</td>\n",
              "      <td>0</td>\n",
              "      <td>0</td>\n",
              "    </tr>\n",
              "    <tr>\n",
              "      <th>49998</th>\n",
              "      <td>2006</td>\n",
              "      <td>36</td>\n",
              "      <td>40</td>\n",
              "      <td>54</td>\n",
              "      <td>216.0</td>\n",
              "      <td>194.0</td>\n",
              "      <td>0.898148</td>\n",
              "      <td>0</td>\n",
              "      <td>0</td>\n",
              "      <td>0</td>\n",
              "      <td>...</td>\n",
              "      <td>0</td>\n",
              "      <td>0</td>\n",
              "      <td>0</td>\n",
              "      <td>0</td>\n",
              "      <td>0</td>\n",
              "      <td>0</td>\n",
              "      <td>0</td>\n",
              "      <td>0</td>\n",
              "      <td>0</td>\n",
              "      <td>0</td>\n",
              "    </tr>\n",
              "  </tbody>\n",
              "</table>\n",
              "<p>49999 rows × 205 columns</p>\n",
              "</div>\n",
              "      <button class=\"colab-df-convert\" onclick=\"convertToInteractive('df-92b13fbd-96dc-4fd1-ad69-78e285592ca4')\"\n",
              "              title=\"Convert this dataframe to an interactive table.\"\n",
              "              style=\"display:none;\">\n",
              "        \n",
              "  <svg xmlns=\"http://www.w3.org/2000/svg\" height=\"24px\"viewBox=\"0 0 24 24\"\n",
              "       width=\"24px\">\n",
              "    <path d=\"M0 0h24v24H0V0z\" fill=\"none\"/>\n",
              "    <path d=\"M18.56 5.44l.94 2.06.94-2.06 2.06-.94-2.06-.94-.94-2.06-.94 2.06-2.06.94zm-11 1L8.5 8.5l.94-2.06 2.06-.94-2.06-.94L8.5 2.5l-.94 2.06-2.06.94zm10 10l.94 2.06.94-2.06 2.06-.94-2.06-.94-.94-2.06-.94 2.06-2.06.94z\"/><path d=\"M17.41 7.96l-1.37-1.37c-.4-.4-.92-.59-1.43-.59-.52 0-1.04.2-1.43.59L10.3 9.45l-7.72 7.72c-.78.78-.78 2.05 0 2.83L4 21.41c.39.39.9.59 1.41.59.51 0 1.02-.2 1.41-.59l7.78-7.78 2.81-2.81c.8-.78.8-2.07 0-2.86zM5.41 20L4 18.59l7.72-7.72 1.47 1.35L5.41 20z\"/>\n",
              "  </svg>\n",
              "      </button>\n",
              "      \n",
              "  <style>\n",
              "    .colab-df-container {\n",
              "      display:flex;\n",
              "      flex-wrap:wrap;\n",
              "      gap: 12px;\n",
              "    }\n",
              "\n",
              "    .colab-df-convert {\n",
              "      background-color: #E8F0FE;\n",
              "      border: none;\n",
              "      border-radius: 50%;\n",
              "      cursor: pointer;\n",
              "      display: none;\n",
              "      fill: #1967D2;\n",
              "      height: 32px;\n",
              "      padding: 0 0 0 0;\n",
              "      width: 32px;\n",
              "    }\n",
              "\n",
              "    .colab-df-convert:hover {\n",
              "      background-color: #E2EBFA;\n",
              "      box-shadow: 0px 1px 2px rgba(60, 64, 67, 0.3), 0px 1px 3px 1px rgba(60, 64, 67, 0.15);\n",
              "      fill: #174EA6;\n",
              "    }\n",
              "\n",
              "    [theme=dark] .colab-df-convert {\n",
              "      background-color: #3B4455;\n",
              "      fill: #D2E3FC;\n",
              "    }\n",
              "\n",
              "    [theme=dark] .colab-df-convert:hover {\n",
              "      background-color: #434B5C;\n",
              "      box-shadow: 0px 1px 3px 1px rgba(0, 0, 0, 0.15);\n",
              "      filter: drop-shadow(0px 1px 2px rgba(0, 0, 0, 0.3));\n",
              "      fill: #FFFFFF;\n",
              "    }\n",
              "  </style>\n",
              "\n",
              "      <script>\n",
              "        const buttonEl =\n",
              "          document.querySelector('#df-92b13fbd-96dc-4fd1-ad69-78e285592ca4 button.colab-df-convert');\n",
              "        buttonEl.style.display =\n",
              "          google.colab.kernel.accessAllowed ? 'block' : 'none';\n",
              "\n",
              "        async function convertToInteractive(key) {\n",
              "          const element = document.querySelector('#df-92b13fbd-96dc-4fd1-ad69-78e285592ca4');\n",
              "          const dataTable =\n",
              "            await google.colab.kernel.invokeFunction('convertToInteractive',\n",
              "                                                     [key], {});\n",
              "          if (!dataTable) return;\n",
              "\n",
              "          const docLinkHtml = 'Like what you see? Visit the ' +\n",
              "            '<a target=\"_blank\" href=https://colab.research.google.com/notebooks/data_table.ipynb>data table notebook</a>'\n",
              "            + ' to learn more about interactive tables.';\n",
              "          element.innerHTML = '';\n",
              "          dataTable['output_type'] = 'display_data';\n",
              "          await google.colab.output.renderOutput(dataTable, element);\n",
              "          const docLink = document.createElement('div');\n",
              "          docLink.innerHTML = docLinkHtml;\n",
              "          element.appendChild(docLink);\n",
              "        }\n",
              "      </script>\n",
              "    </div>\n",
              "  </div>\n",
              "  "
            ]
          },
          "metadata": {},
          "execution_count": 212
        }
      ],
      "source": [
        "dummy = pd.get_dummies(data)\n",
        "dummy\n"
      ]
    },
    {
      "cell_type": "markdown",
      "metadata": {
        "id": "WcKWxtwOQ2oP"
      },
      "source": [
        "<b><i> Splitting dataset into train and test dataset </i></b>"
      ]
    },
    {
      "cell_type": "code",
      "execution_count": null,
      "metadata": {
        "colab": {
          "base_uri": "https://localhost:8080/"
        },
        "id": "N2D3e349PCmJ",
        "outputId": "a058de61-380a-4781-8079-9df86eba7fd8"
      },
      "outputs": [
        {
          "output_type": "stream",
          "name": "stdout",
          "text": [
            "x_train : (37499, 203)\n",
            "x_test : (12500, 203)\n",
            "y_train : (37499,)\n",
            "y_test : (12500,)\n"
          ]
        }
      ],
      "source": [
        "\n",
        "from sklearn.model_selection import train_test_split\n",
        "\n",
        "x = dummy.drop([\"Production\",\"Yield\"], axis=1)\n",
        "y = dummy[\"Production\"]\n",
        "\n",
        "# Splitting data set - 25% test dataset and 75% \n",
        "\n",
        "x_train,x_test,y_train,y_test = train_test_split(x,y,test_size=0.25, random_state=42)\n",
        "\n",
        "print(\"x_train :\",x_train.shape)\n",
        "print(\"x_test :\",x_test.shape)\n",
        "print(\"y_train :\",y_train.shape)\n",
        "print(\"y_test :\",y_test.shape)"
      ]
    },
    {
      "cell_type": "code",
      "execution_count": null,
      "metadata": {
        "colab": {
          "base_uri": "https://localhost:8080/"
        },
        "id": "UZYbfg5iN1rz",
        "outputId": "b10cccad-fa77-4319-e99d-f4ad20d801e2"
      },
      "outputs": [
        {
          "output_type": "stream",
          "name": "stdout",
          "text": [
            "       Crop_Year  Temperature  Humidity  Soil_Moisture     Area  \\\n",
            "27434       2009           36        40             54   2761.0   \n",
            "13400       1999           36        35             45  57620.0   \n",
            "883         2013           37        40             46    935.0   \n",
            "7303        2004           36        40             54   9065.0   \n",
            "49251       2005           36        35             45   7505.0   \n",
            "...          ...          ...       ...            ...      ...   \n",
            "11284       2002           35        50             59    130.0   \n",
            "44732       2013           25        55             55     29.0   \n",
            "38158       2010           37        42             55   2347.0   \n",
            "860         2013           34        45             52      2.0   \n",
            "15795       2009           37        40             46    767.0   \n",
            "\n",
            "       District_Name_ANANTAPUR  District_Name_ANJAW  District_Name_ARARIA  \\\n",
            "27434                        0                    0                     1   \n",
            "13400                        0                    0                     0   \n",
            "883                          1                    0                     0   \n",
            "7303                         0                    0                     0   \n",
            "49251                        0                    0                     0   \n",
            "...                        ...                  ...                   ...   \n",
            "11284                        0                    0                     0   \n",
            "44732                        0                    0                     0   \n",
            "38158                        0                    0                     0   \n",
            "860                          1                    0                     0   \n",
            "15795                        0                    0                     0   \n",
            "\n",
            "       District_Name_ARWAL  District_Name_AURANGABAD  ...  Crop_Tapioca  \\\n",
            "27434                    0                         0  ...             0   \n",
            "13400                    0                         0  ...             0   \n",
            "883                      0                         0  ...             0   \n",
            "7303                     0                         0  ...             0   \n",
            "49251                    0                         0  ...             0   \n",
            "...                    ...                       ...  ...           ...   \n",
            "11284                    0                         0  ...             0   \n",
            "44732                    0                         0  ...             0   \n",
            "38158                    0                         0  ...             0   \n",
            "860                      0                         0  ...             0   \n",
            "15795                    0                         0  ...             0   \n",
            "\n",
            "       Crop_Tobacco  Crop_Tomato  Crop_Turmeric  Crop_Urad  Crop_Varagu  \\\n",
            "27434             0            0              0          0            0   \n",
            "13400             0            0              0          0            0   \n",
            "883               0            0              0          0            0   \n",
            "7303              0            0              0          0            0   \n",
            "49251             0            0              0          0            0   \n",
            "...             ...          ...            ...        ...          ...   \n",
            "11284             0            0              0          0            0   \n",
            "44732             0            0              0          0            0   \n",
            "38158             0            0              0          0            0   \n",
            "860               0            0              0          0            0   \n",
            "15795             0            0              0          1            0   \n",
            "\n",
            "       Crop_Wheat  Crop_other fibres  Crop_other misc. pulses  \\\n",
            "27434           0                  0                        0   \n",
            "13400           0                  0                        0   \n",
            "883             0                  0                        0   \n",
            "7303            0                  0                        0   \n",
            "49251           0                  0                        0   \n",
            "...           ...                ...                      ...   \n",
            "11284           0                  0                        0   \n",
            "44732           0                  0                        0   \n",
            "38158           0                  0                        0   \n",
            "860             0                  0                        0   \n",
            "15795           0                  0                        0   \n",
            "\n",
            "       Crop_other oilseeds  \n",
            "27434                    0  \n",
            "13400                    0  \n",
            "883                      0  \n",
            "7303                     0  \n",
            "49251                    0  \n",
            "...                    ...  \n",
            "11284                    0  \n",
            "44732                    0  \n",
            "38158                    0  \n",
            "860                      0  \n",
            "15795                    0  \n",
            "\n",
            "[37499 rows x 203 columns]\n",
            "27434     12501.0\n",
            "13400     62814.0\n",
            "883         856.0\n",
            "7303     690146.0\n",
            "49251      1283.0\n",
            "           ...   \n",
            "11284      1890.0\n",
            "44732        25.0\n",
            "38158      9138.0\n",
            "860          38.0\n",
            "15795       434.0\n",
            "Name: Production, Length: 37499, dtype: float64\n"
          ]
        }
      ],
      "source": [
        "print(x_train)\n",
        "print(y_train)"
      ]
    },
    {
      "cell_type": "code",
      "source": [
        "import numpy as np\n",
        "import matplotlib.pyplot as plt\n",
        "import pandas as pd\n",
        "import numpy as np\n",
        "\n",
        "# creating the dataset\n",
        "year = [2012,2013,2014]\n",
        "values = []\n",
        "data1 = pd.DataFrame(crop_data)\n",
        "for x in range(3):\n",
        "  curyearsum=0\n",
        "  count=0\n",
        "  for y in range(1000):\n",
        "    if(data1.iloc[y][\"Crop_Year\"] == year[x]):\n",
        "      count+=1;\n",
        "      curyearsum += data1.iloc[x][\"Humidity\"]\n",
        "  values.append(curyearsum/count)\n",
        "fig = plt.figure(figsize = (7, 5))\n",
        " \n",
        "# creating the bar plot\n",
        "x = np.array([\"2012\",\"2013\",\"2014\"])\n",
        "y = np.array(values)\n",
        "plt.xlabel(\"year\")\n",
        "plt.ylabel(\"mean value of humidity\")\n",
        "plt.title(\"mean value of humidity of three years\")\n",
        "plt.bar(x,y,color ='maroon', width = 0.4)\n",
        "plt.show()"
      ],
      "metadata": {
        "colab": {
          "base_uri": "https://localhost:8080/",
          "height": 350
        },
        "id": "TY_PQJ3aAxCF",
        "outputId": "10046c68-fba3-49cc-a3a7-88d2c6aa81fb"
      },
      "execution_count": null,
      "outputs": [
        {
          "output_type": "display_data",
          "data": {
            "text/plain": [
              "<Figure size 504x360 with 1 Axes>"
            ],
            "image/png": "[encoded data removed]"
          },
          "metadata": {
            "needs_background": "light"
          }
        }
      ]
    },
    {
      "cell_type": "code",
      "source": [
        "import numpy as np\n",
        "import matplotlib.pyplot as plt\n",
        "import pandas as pd\n",
        "import numpy as np\n",
        "\n",
        "# creating the dataset\n",
        "year = [2012,2013,2014]\n",
        "values = []\n",
        "data1 = pd.DataFrame(crop_data)\n",
        "for x in range(3):\n",
        "  curyearsum=0\n",
        "  count=0\n",
        "  for y in range(1000):\n",
        "    if(data1.iloc[y][\"Crop_Year\"] == year[x]):\n",
        "      count+=1;\n",
        "      curyearsum += data1.iloc[x][\"Temperature\"]\n",
        "  values.append(curyearsum/count)\n",
        "fig = plt.figure(figsize = (7, 5))\n",
        " \n",
        "# creating the bar plot\n",
        "x = np.array([\"2012\",\"2013\",\"2014\"])\n",
        "y = np.array(values)\n",
        "plt.xlabel(\"year\")\n",
        "plt.ylabel(\"mean value of Temperature\")\n",
        "plt.title(\"mean value of Temperature of three years\")\n",
        "plt.bar(x,y,color ='maroon', width = 0.4)\n",
        "plt.show()"
      ],
      "metadata": {
        "colab": {
          "base_uri": "https://localhost:8080/",
          "height": 350
        },
        "id": "-udzqw2_A8IK",
        "outputId": "57b3424e-8083-464f-c8d3-af101fe59cca"
      },
      "execution_count": null,
      "outputs": [
        {
          "output_type": "display_data",
          "data": {
            "text/plain": [
              "<Figure size 504x360 with 1 Axes>"
            ],
            "image/png": "[encoded data removed]"
          },
          "metadata": {
            "needs_background": "light"
          }
        }
      ]
    },
    {
      "cell_type": "markdown",
      "metadata": {
        "id": "wOm0Nbu4hgcW"
      },
      "source": [
        "# **Linear Regression**"
      ]
    },
    {
      "cell_type": "code",
      "source": [
        "fig, axes = plt.subplots(nrows=1, ncols=2, figsize=(10, 4))\n",
        "axes[0].scatter(crop_data['Temperature'], crop_data['Production'], color='red')\n",
        "axes[1].scatter(crop_data['Soil_Moisture'], crop_data['Production'], color='blue')\n",
        "axes[0].set_title(\"Temperature vs Production\")\n",
        "axes[1].set_title(\"Soil_Moisture vs Production\")\n",
        "axes[0].set_ylabel(\"Production\")\n",
        "axes[0].set_xlabel(\"Temperture\")\n",
        "axes[1].set_ylabel(\"Production\")\n",
        "axes[1].set_xlabel(\"Soil_Moisture\")\n",
        "plt.show()"
      ],
      "metadata": {
        "id": "vs1dkx9evi2f"
      },
      "execution_count": null,
      "outputs": []
    },
    {
      "cell_type": "code",
      "execution_count": null,
      "metadata": {
        "id": "QcmEJiH6hhBd"
      },
      "outputs": [],
      "source": [
        "# Training the Simple Linear Regression model .\n",
        "\n",
        "from sklearn.linear_model import LinearRegression\n",
        "model = LinearRegression()\n",
        "model.fit(x_train,y_train)"
      ]
    },
    {
      "cell_type": "code",
      "execution_count": null,
      "metadata": {
        "id": "8zCVFjRsn4BE"
      },
      "outputs": [],
      "source": [
        "lr_predict = model.predict(x_test)\n",
        "lr_predict"
      ]
    },
    {
      "cell_type": "code",
      "execution_count": null,
      "metadata": {
        "id": "wVUh-bIvynuq"
      },
      "outputs": [],
      "source": [
        "from sklearn.metrics import mean_squared_error\n",
        "lr_predict = model.predict(x_test)\n",
        "scores_regr = mean_squared_error(y_test, lr_predict)\n",
        "print(scores_regr)\n",
        "# print(mean_squared_error(y_train, lr_predict))"
      ]
    },
    {
      "cell_type": "code",
      "execution_count": null,
      "metadata": {
        "id": "hGfrNaaAhtzX"
      },
      "outputs": [],
      "source": [
        "# Predicting the test Results \n",
        "\n",
        "lr_predict = model.predict(x_test)\n",
        "lr_predict"
      ]
    },
    {
      "cell_type": "code",
      "execution_count": null,
      "metadata": {
        "id": "nYQUatD7hwCM"
      },
      "outputs": [],
      "source": [
        "model.score(x_test,y_test)"
      ]
    },
    {
      "cell_type": "code",
      "execution_count": null,
      "metadata": {
        "id": "NOc3yqAGN1r2"
      },
      "outputs": [],
      "source": [
        "from sklearn.metrics import r2_score\n",
        "r = r2_score(y_test,lr_predict)\n",
        "print(\"R2 score : \",r)"
      ]
    },
    {
      "cell_type": "code",
      "execution_count": null,
      "metadata": {
        "id": "4TvzH4l8N1r3"
      },
      "outputs": [],
      "source": [
        "plt.scatter(y_test,lr_predict)\n",
        "plt.xlabel('Actual')\n",
        "plt.ylabel('Predicted')\n",
        "plt.title('Linear Regression')"
      ]
    },
    {
      "cell_type": "markdown",
      "metadata": {
        "id": "VQOTg1RsN1r4"
      },
      "source": [
        "Clearly, the dataset is not good for linear regression.\n",
        "\n",
        "<b> Assumptions of Linear Regression </b>\n",
        "<ol>\n",
        "    <li> Linearity.</li>\n",
        "    <li> Homoscedasticity </li>\n",
        "    <li> Multivariate normality </li>\n",
        "    <li> Lack of multicollinearity </li>\n",
        "    \n"
      ]
    },
    {
      "cell_type": "markdown",
      "metadata": {
        "id": "PYfSAmsKN1r4"
      },
      "source": [
        "R2 score: This is pronounced as R-squared, and this score refers to the coefficient of determination. \n",
        "This tells us how well the unknown samples will be predicted by our model."
      ]
    },
    {
      "cell_type": "markdown",
      "metadata": {
        "id": "cK4zWdosN1sA"
      },
      "source": [
        "# <b> Decision Tree </b>"
      ]
    },
    {
      "cell_type": "code",
      "execution_count": null,
      "metadata": {
        "colab": {
          "base_uri": "https://localhost:8080/"
        },
        "id": "onpwU2yfN1sA",
        "outputId": "b8b426a7-e456-40d6-e2b8-61bc073719eb"
      },
      "outputs": [
        {
          "output_type": "error",
          "ename": "NameError",
          "evalue": "ignored",
          "traceback": [
            "\u001b[0;31m---------------------------------------------------------------------------\u001b[0m",
            "\u001b[0;31mNameError\u001b[0m                                 Traceback (most recent call last)",
            "\u001b[0;32m<ipython-input-10-8fb3c87ccb3b>\u001b[0m in \u001b[0;36m<module>\u001b[0;34m()\u001b[0m\n\u001b[1;32m      2\u001b[0m \u001b[0;32mfrom\u001b[0m \u001b[0msklearn\u001b[0m\u001b[0;34m.\u001b[0m\u001b[0mtree\u001b[0m \u001b[0;32mimport\u001b[0m \u001b[0mDecisionTreeRegressor\u001b[0m\u001b[0;34m\u001b[0m\u001b[0;34m\u001b[0m\u001b[0m\n\u001b[1;32m      3\u001b[0m \u001b[0mregressor\u001b[0m \u001b[0;34m=\u001b[0m \u001b[0mDecisionTreeRegressor\u001b[0m\u001b[0;34m(\u001b[0m\u001b[0mrandom_state\u001b[0m \u001b[0;34m=\u001b[0m \u001b[0;36m5\u001b[0m\u001b[0;34m)\u001b[0m\u001b[0;34m\u001b[0m\u001b[0;34m\u001b[0m\u001b[0m\n\u001b[0;32m----> 4\u001b[0;31m \u001b[0mregressor\u001b[0m\u001b[0;34m.\u001b[0m\u001b[0mfit\u001b[0m\u001b[0;34m(\u001b[0m\u001b[0mx_train\u001b[0m\u001b[0;34m,\u001b[0m\u001b[0my_train\u001b[0m\u001b[0;34m)\u001b[0m\u001b[0;34m\u001b[0m\u001b[0;34m\u001b[0m\u001b[0m\n\u001b[0m\u001b[1;32m      5\u001b[0m \u001b[0;34m\u001b[0m\u001b[0m\n\u001b[1;32m      6\u001b[0m \u001b[0;31m# Predicting results\u001b[0m\u001b[0;34m\u001b[0m\u001b[0;34m\u001b[0m\u001b[0;34m\u001b[0m\u001b[0m\n",
            "\u001b[0;31mNameError\u001b[0m: name 'x_train' is not defined"
          ]
        }
      ],
      "source": [
        "# Training model \n",
        "from sklearn.tree import DecisionTreeRegressor\n",
        "regressor = DecisionTreeRegressor(random_state = 5)\n",
        "regressor.fit(x_train,y_train)\n",
        "\n",
        "# Predicting results\n",
        "decisiontree_predict = regressor.predict(x_test)\n",
        "decisiontree_predict"
      ]
    },
    {
      "cell_type": "code",
      "execution_count": null,
      "metadata": {
        "id": "dCnn_wZ8N1sB"
      },
      "outputs": [],
      "source": [
        "regressor.score(x_test,y_test)"
      ]
    },
    {
      "cell_type": "code",
      "source": [
        "plt.scatter(y_test,decisiontree_predict)\n",
        "plt.xlabel('Actual')\n",
        "plt.ylabel('Predicted')\n",
        "plt.title('Decision Tree ')"
      ],
      "metadata": {
        "id": "JQj_vmLs4Ut5"
      },
      "execution_count": null,
      "outputs": []
    },
    {
      "cell_type": "code",
      "execution_count": null,
      "metadata": {
        "id": "ZYH2JfafN1sB"
      },
      "outputs": [],
      "source": [
        "# Calculating R2 score :\n",
        "\n",
        "from sklearn.metrics import r2_score\n",
        "r2 = r2_score(y_test,decisiontree_predict)\n",
        "print(\"R2 score : \",r2)"
      ]
    },
    {
      "cell_type": "code",
      "execution_count": null,
      "metadata": {
        "id": "VF2oSKL1N1sC"
      },
      "outputs": [],
      "source": [
        "# Calculating Adj. R2 score: \n",
        "\n",
        "Adjr2_2 = 1 - (1-r2)*(len(y_test)-1)/(len(y_test)-x_test.shape[1]-1)\n",
        "print(\"Adj. R-Squared : {}\".format(Adjr2_2))"
      ]
    },
    {
      "cell_type": "code",
      "execution_count": null,
      "metadata": {
        "id": "U5NOZB9kN1sD"
      },
      "outputs": [],
      "source": [
        "ax = sns.distplot(y_test, hist = False, color = \"r\", label = \"Actual value \")\n",
        "sns.distplot(decisiontree_predict, hist = False, color = \"b\", label = \"Predicted Values\", ax = ax)\n",
        "plt.title('Decision Tree Regression')"
      ]
    },
    {
      "cell_type": "markdown",
      "metadata": {
        "id": "VQd1SuR8YKie"
      },
      "source": [
        "# **Random Forest Algorithm**"
      ]
    },
    {
      "cell_type": "code",
      "execution_count": null,
      "metadata": {
        "id": "mw2Uwu7iKSrt"
      },
      "outputs": [],
      "source": [
        "from sklearn.ensemble import RandomForestRegressor\n",
        "model = RandomForestRegressor(n_estimators = 11)\n",
        "model.fit(x_train,y_train)\n",
        "rf_predict = model.predict(x_test)\n",
        "rf_predict"
      ]
    },
    {
      "cell_type": "code",
      "execution_count": null,
      "metadata": {
        "id": "WHqQ4-1mN1r6"
      },
      "outputs": [],
      "source": [
        "model.score(x_test,y_test)"
      ]
    },
    {
      "cell_type": "code",
      "execution_count": null,
      "metadata": {
        "id": "Bgoh1gQ_N1r7"
      },
      "outputs": [],
      "source": [
        "# Calculating R2 score\n",
        "\n",
        "from sklearn.metrics import r2_score\n",
        "r1 = r2_score(y_test,rf_predict)\n",
        "print(\"R2 score : \",r1)"
      ]
    },
    {
      "cell_type": "code",
      "execution_count": null,
      "metadata": {
        "id": "kKoCXC17N1r7"
      },
      "outputs": [],
      "source": [
        "# Calculating Adj. R2 score: \n",
        "\n",
        "Adjr2_1 = 1 - (1-r1)*(len(y_test)-1)/(len(y_test)-x_test.shape[1]-1)\n",
        "print(\"Adj. R-Squared : {}\".format(Adjr2_1))"
      ]
    },
    {
      "cell_type": "code",
      "execution_count": null,
      "metadata": {
        "id": "Q7namUlXN1r8"
      },
      "outputs": [],
      "source": [
        "ax = sns.distplot(y_test, hist = False, color = \"r\", label = \"Actual value \")\n",
        "sns.distplot(rf_predict, hist = False, color = \"b\", label = \"Predicted Values\", ax = ax)\n",
        "plt.title('Random Forest Regression')"
      ]
    },
    {
      "cell_type": "code",
      "source": [
        "plt.scatter(y_test,rf_predict)\n",
        "plt.xlabel('Actual')\n",
        "plt.ylabel('Predicted')\n",
        "plt.title('Random Forest')"
      ],
      "metadata": {
        "id": "YAMIsfa84uwF"
      },
      "execution_count": null,
      "outputs": []
    },
    {
      "cell_type": "markdown",
      "metadata": {
        "id": "jNKIoSwdN1r9"
      },
      "source": [
        "<b> Comparison between Linear Regression Algorithm and Random Forest Algorithm </b> "
      ]
    },
    {
      "cell_type": "markdown",
      "metadata": {
        "id": "TGqB0ojXN1r9"
      },
      "source": [
        "\n",
        "\n",
        "1. Linear regression algorithm is not at all accurate for this kind of prediction.\n",
        "2. Random Forest Algorithm has higher accuracy ( between 85 % to 90% ), but it is slow."
      ]
    },
    {
      "cell_type": "markdown",
      "metadata": {
        "id": "JaooeFj-N1r-"
      },
      "source": [
        "# <b> Support Vector Regression </b> "
      ]
    },
    {
      "cell_type": "code",
      "source": [
        "#Feature Scaling\n",
        "\n",
        "from sklearn.preprocessing import StandardScaler\n",
        "sc_x = StandardScaler()\n",
        "x_train = sc_x.fit_transform(x_train)\n",
        "x_test = sc_x.fit_transform(x_test)"
      ],
      "metadata": {
        "id": "lSJBPGk4AISE"
      },
      "execution_count": null,
      "outputs": []
    },
    {
      "cell_type": "code",
      "execution_count": null,
      "metadata": {
        "id": "zwpMpQQMCXD0"
      },
      "outputs": [],
      "source": [
        "from sklearn.svm import SVR\n",
        "from sklearn.pipeline import make_pipeline\n",
        "from sklearn.preprocessing import StandardScaler\n",
        "import numpy as np\n",
        "regr = make_pipeline(StandardScaler(), SVR(kernel='rbg'))\n",
        "regr.fit(x_train,y_train)"
      ]
    },
    {
      "cell_type": "code",
      "source": [
        "svr_predict = regr.predict(x_test)\n",
        "svr_predict"
      ],
      "metadata": {
        "id": "ybnvJzcGCd71"
      },
      "execution_count": null,
      "outputs": []
    },
    {
      "cell_type": "code",
      "source": [
        "print(regr.score(x_test,y_test))"
      ],
      "metadata": {
        "id": "Ca8TZmqdYKoV"
      },
      "execution_count": null,
      "outputs": []
    },
    {
      "cell_type": "code",
      "source": [
        "from sklearn.metrics import r2_score\n",
        "r3 = r2_score(y_test,svr_predict)\n",
        "print(r3)"
      ],
      "metadata": {
        "id": "RkKRYhFlXUO8"
      },
      "execution_count": null,
      "outputs": []
    },
    {
      "cell_type": "code",
      "source": [
        "# Calculating Adj. R2 score: \n",
        "\n",
        "Adjr2_3 = 1 - (1-r3)*(len(y_test)-1)/(len(y_test)-x_test.shape[1]-1)\n",
        "print(\"Adj. R-Squared : {}\".format(Adjr2_3))"
      ],
      "metadata": {
        "id": "BHvH1j46DfXB"
      },
      "execution_count": null,
      "outputs": []
    },
    {
      "cell_type": "code",
      "execution_count": null,
      "metadata": {
        "id": "8tXdlfsWN1sA"
      },
      "outputs": [],
      "source": [
        "ax = sns.distplot(y_test, hist = False, color = \"r\", label = \"Actual value \")\n",
        "sns.distplot(svr_predict, hist = False, color = \"b\", label = \"Predicted Values\", ax = ax)\n",
        "plt.title('Support Vector Regression')"
      ]
    },
    {
      "cell_type": "markdown",
      "metadata": {
        "id": "AREhpwFyN1sD"
      },
      "source": [
        "# <b> Cross-validation </b> "
      ]
    },
    {
      "cell_type": "markdown",
      "source": [
        "Random Forest"
      ],
      "metadata": {
        "id": "ccsRSBX_yQk5"
      }
    },
    {
      "cell_type": "code",
      "execution_count": null,
      "metadata": {
        "id": "G7YC9ZeVN1sE"
      },
      "outputs": [],
      "source": [
        "from sklearn.model_selection import cross_val_score\n",
        "accuracies = cross_val_score(estimator = model, X = x_train, y=y_train, cv = 10)\n",
        "accuracies"
      ]
    },
    {
      "cell_type": "code",
      "execution_count": null,
      "metadata": {
        "id": "nwhO4h7VN1sF"
      },
      "outputs": [],
      "source": [
        "a1 = (accuracies.mean()*100)\n",
        "b1 = (accuracies.std()*100)"
      ]
    },
    {
      "cell_type": "code",
      "execution_count": null,
      "metadata": {
        "id": "9k-lTYEWN1sF"
      },
      "outputs": [],
      "source": [
        "\n",
        "# Mean Accuracy and SD of 10 fold results\n",
        "\n",
        "print(\"Accuracy : {:.2f}%\".format (accuracies.mean()*100))\n",
        "print(\"Standard Deviation : {:.2f}%\".format(accuracies.std()*100))"
      ]
    },
    {
      "cell_type": "markdown",
      "metadata": {
        "id": "zsTeJxQpN1sG"
      },
      "source": [
        "Decision Tree\n"
      ]
    },
    {
      "cell_type": "code",
      "execution_count": null,
      "metadata": {
        "id": "TDWc_rMhN1sH"
      },
      "outputs": [],
      "source": [
        "from sklearn.model_selection import cross_val_score\n",
        "accuracies = cross_val_score(estimator = regressor, X = x_train, y=y_train, cv = 10)"
      ]
    },
    {
      "cell_type": "code",
      "execution_count": null,
      "metadata": {
        "id": "5IJI9wxDN1sH"
      },
      "outputs": [],
      "source": [
        "a2 = (accuracies.mean()*100)\n",
        "b2 = (accuracies.std()*100)"
      ]
    },
    {
      "cell_type": "code",
      "execution_count": null,
      "metadata": {
        "id": "rAMG3jAdN1sH"
      },
      "outputs": [],
      "source": [
        "print(\"Accuracy : {:.2f}%\".format (accuracies.mean()*100))\n",
        "print(\"Standard Deviation : {:.2f}%\".format(accuracies.std()*100))"
      ]
    },
    {
      "cell_type": "markdown",
      "source": [
        "Support Vector Regressor"
      ],
      "metadata": {
        "id": "-IGOnvmcBPyS"
      }
    },
    {
      "cell_type": "code",
      "source": [
        "from sklearn.model_selection import cross_val_score\n",
        "accuracies = cross_val_score(estimator = regressor, X = x_train, y=y_train, cv = 10)"
      ],
      "metadata": {
        "id": "ek0aNcVZBZpC"
      },
      "execution_count": null,
      "outputs": []
    },
    {
      "cell_type": "code",
      "source": [
        "a3 = (accuracies.mean()*100)\n",
        "b3 = (accuracies.std()*100)"
      ],
      "metadata": {
        "id": "MeeYaJHGBcdF"
      },
      "execution_count": null,
      "outputs": []
    },
    {
      "cell_type": "code",
      "source": [
        "print(\"Accuracy : {:.2f}%\".format (accuracies.mean()*100))\n",
        "print(\"Standard Deviation : {:.2f}%\".format(accuracies.std()*100))"
      ],
      "metadata": {
        "id": "ke0jxPrlBfoG"
      },
      "execution_count": null,
      "outputs": []
    },
    {
      "cell_type": "markdown",
      "source": [
        "Comparing with Graphs\n"
      ],
      "metadata": {
        "id": "rO-cPOwVyayt"
      }
    },
    {
      "cell_type": "code",
      "execution_count": null,
      "metadata": {
        "colab": {
          "base_uri": "https://localhost:8080/",
          "height": 279
        },
        "id": "1QVBX7QIN1sI",
        "outputId": "711497b3-ca18-4687-cc7f-87deead8c5f8"
      },
      "outputs": [
        {
          "output_type": "display_data",
          "data": {
            "text/plain": [
              "<Figure size 432x288 with 1 Axes>"
            ],
            "image/png": "[encoded data removed]"
          },
          "metadata": {
            "needs_background": "light"
          }
        }
      ],
      "source": [
        "# Mean Accuracy\n",
        "import numpy as np\n",
        "import matplotlib.pyplot as plt\n",
        " \n",
        "# create a dataset\n",
        "Algorithms = ['Random Forest', 'Decision-tree', 'Support Vector Regression']\n",
        "Accuracy = [a1, a2, a3]\n",
        "\n",
        "x_pos = np.arange(len(Accuracy))\n",
        "\n",
        "# Create bars with different colors\n",
        "plt.bar(x_pos, Accuracy, color=['#488AC7','#ff8c00', '#800000'])\n",
        "\n",
        "# Create names on the x-axis\n",
        "plt.xticks(x_pos, Algorithms)\n",
        "plt.ylabel('Accuracy(in %)')\n",
        "plt.xlabel('Machine Learning Regression Techniques')\n",
        "\n",
        "# Show graph\n",
        "plt.show()"
      ]
    },
    {
      "cell_type": "code",
      "execution_count": null,
      "metadata": {
        "colab": {
          "base_uri": "https://localhost:8080/",
          "height": 296
        },
        "id": "WHbI-jVJN1sI",
        "outputId": "a525dba9-01f3-42ae-f36c-157a3b6a679f"
      },
      "outputs": [
        {
          "output_type": "display_data",
          "data": {
            "text/plain": [
              "<Figure size 432x288 with 1 Axes>"
            ],
            "image/png": "[encoded data removed]"
          },
          "metadata": {
            "needs_background": "light"
          }
        },
        {
          "output_type": "display_data",
          "data": {
            "text/plain": [
              "<Figure size 432x288 with 0 Axes>"
            ]
          },
          "metadata": {}
        }
      ],
      "source": [
        "# Standard Deviation\n",
        "import numpy as np\n",
        "import matplotlib.pyplot as plt\n",
        " \n",
        "# create a dataset\n",
        "Algorithms = ['Random Forest', 'Decision-tree', 'Support Vector Regression']\n",
        "Accuracy = [b1, b2, b3]\n",
        "\n",
        "x_pos = np.arange(len(Accuracy))\n",
        "\n",
        "# Create bars with different colors\n",
        "plt.bar(x_pos, Accuracy, color=['#488AC7','#ff8c00', '#800000'])\n",
        "\n",
        "# Create names on the x-axis\n",
        "plt.xticks(x_pos, Algorithms)\n",
        "plt.ylabel('Standard Deviation(in %)')\n",
        "plt.xlabel('Machine Learning Regression Techniques')\n",
        "\n",
        "# Show graph\n",
        "plt.show()\n",
        "plt.savefig('SD.png')"
      ]
    },
    {
      "cell_type": "code",
      "execution_count": null,
      "metadata": {
        "colab": {
          "base_uri": "https://localhost:8080/",
          "height": 296
        },
        "id": "Mmn-s1VfN1sJ",
        "outputId": "d0d18cef-f582-4e77-85c3-6a73825d7527"
      },
      "outputs": [
        {
          "output_type": "display_data",
          "data": {
            "text/plain": [
              "<Figure size 432x288 with 1 Axes>"
            ],
            "image/png": "[encoded data removed]"
          },
          "metadata": {
            "needs_background": "light"
          }
        },
        {
          "output_type": "display_data",
          "data": {
            "text/plain": [
              "<Figure size 432x288 with 0 Axes>"
            ]
          },
          "metadata": {}
        }
      ],
      "source": [
        "# Adjusted R2 value\n",
        "import numpy as np\n",
        "import matplotlib.pyplot as plt\n",
        " \n",
        "# create a dataset\n",
        "Algorithms = ['Random Forest', 'Decision-tree', 'Support Vector Regression']\n",
        "Accuracy = [Adjr2_1, Adjr2_2, Adjr2_3]\n",
        "\n",
        "x_pos = np.arange(len(Accuracy))\n",
        "\n",
        "# Create bars with different colors\n",
        "plt.bar(x_pos, Accuracy, color=['#488AC7','#ff8c00', '#800000'])\n",
        "\n",
        "# Create names on the x-axis\n",
        "plt.xticks(x_pos, Algorithms)\n",
        "plt.ylabel('Adjusted R-Squared Score')\n",
        "plt.xlabel('Machine Learning Regression Techniques')\n",
        "\n",
        "# Show graph\n",
        "plt.show()\n",
        "plt.savefig('SD.png')"
      ]
    },
    {
      "cell_type": "code",
      "execution_count": null,
      "metadata": {
        "colab": {
          "base_uri": "https://localhost:8080/",
          "height": 296
        },
        "id": "SPNj5lwsN1sJ",
        "outputId": "05dcb30f-89ec-40d4-afcc-b684153e552f"
      },
      "outputs": [
        {
          "output_type": "display_data",
          "data": {
            "text/plain": [
              "<Figure size 432x288 with 1 Axes>"
            ],
            "image/png": "[encoded data removed]"
          },
          "metadata": {
            "needs_background": "light"
          }
        },
        {
          "output_type": "display_data",
          "data": {
            "text/plain": [
              "<Figure size 432x288 with 0 Axes>"
            ]
          },
          "metadata": {}
        }
      ],
      "source": [
        "# R2 Score\n",
        "import numpy as np\n",
        "import matplotlib.pyplot as plt\n",
        " \n",
        "# create a dataset\n",
        "Algorithms = ['Random Forest', 'Decision-tree', 'Support Vector Regression']\n",
        "Accuracy = [r1, r2, r3]\n",
        "\n",
        "x_pos = np.arange(len(Accuracy))\n",
        "\n",
        "# Create bars with different colors\n",
        "plt.bar(x_pos, Accuracy, color=['#488AC7','#ff8c00', '#800000'])\n",
        "\n",
        "# Create names on the x-axis\n",
        "plt.xticks(x_pos, Algorithms)\n",
        "plt.ylabel('R-Squared Score')\n",
        "plt.xlabel('Machine Learning Regression Techniques')\n",
        "\n",
        "# Show graph\n",
        "plt.show()\n",
        "plt.savefig('SD.png')"
      ]
    }
  ],
  "metadata": {
    "accelerator": "GPU",
    "colab": {
      "collapsed_sections": [
        "uFLVu_S7jyEe",
        "wOm0Nbu4hgcW",
        "cK4zWdosN1sA",
        "VQd1SuR8YKie",
        "AREhpwFyN1sD"
      ],
      "name": "Crop prediction model.ipynb",
      "provenance": []
    },
    "kernelspec": {
      "display_name": "Python 3",
      "language": "python",
      "name": "python3"
    },
    "language_info": {
      "codemirror_mode": {
        "name": "ipython",
        "version": 3
      },
      "file_extension": ".py",
      "mimetype": "text/x-python",
      "name": "python",
      "nbconvert_exporter": "python",
      "pygments_lexer": "ipython3",
      "version": "3.8.3"
    }
  },
  "nbformat": 4,
  "nbformat_minor": 0
}